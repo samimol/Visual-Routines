{
 "cells": [
  {
   "cell_type": "code",
   "execution_count": 1,
   "id": "7e57f05f",
   "metadata": {
    "ExecuteTime": {
     "end_time": "2021-12-14T09:33:15.992524Z",
     "start_time": "2021-12-14T09:33:13.882883Z"
    }
   },
   "outputs": [],
   "source": [
    "from Network import *\n",
    "from Task import *\n",
    "from HelperFunctions import *\n",
    "import os\n",
    "import pandas as pd\n",
    "import pickle\n",
    "import matplotlib.pyplot as plt\n",
    "\n",
    "device = None"
   ]
  },
  {
   "cell_type": "markdown",
   "id": "729ea276",
   "metadata": {},
   "source": [
    "# Make the database"
   ]
  },
  {
   "cell_type": "code",
   "execution_count": 4,
   "id": "82541c67",
   "metadata": {
    "ExecuteTime": {
     "end_time": "2021-12-14T07:28:34.338945Z",
     "start_time": "2021-12-14T07:28:34.024866Z"
    }
   },
   "outputs": [],
   "source": [
    "if not os.path.isfile('NetworksTrace.pkl'):\n",
    "    Networks = []\n",
    "    Trials = []\n",
    "    Generalization = []\n",
    "    \n",
    "    with open('ResultsTracetorch.pkl', 'rb') as input:\n",
    "        results = pickle.load(input)\n",
    "    \n",
    "    ListNetwork = [results[i][0][0] for i in range(23)]\n",
    "    ListPerfo = [results[i][0][1] for i in range(23)]\n",
    "    ListGene = [results[i][0][2] for i in range(23)]\n",
    "\n",
    "    resultsdict = {'Network':ListNetwork,'Performance':ListPerfo,'Generalization':ListGene}\n",
    "\n",
    "    df = pd.DataFrame(resultsdict)\n",
    "    df.to_pickle(\"NetworksTrace.pkl\")\n"
   ]
  },
  {
   "cell_type": "markdown",
   "id": "2118c2b8",
   "metadata": {},
   "source": [
    "# Run and save"
   ]
  },
  {
   "cell_type": "code",
   "execution_count": 2,
   "id": "c93ad918",
   "metadata": {
    "ExecuteTime": {
     "end_time": "2021-12-14T09:33:18.411684Z",
     "start_time": "2021-12-14T09:33:18.285062Z"
    }
   },
   "outputs": [],
   "source": [
    "with open('NetworksTrace.pkl', 'rb') as input:\n",
    "    results = pickle.load(input)"
   ]
  },
  {
   "cell_type": "code",
   "execution_count": 3,
   "id": "5b87ba20",
   "metadata": {
    "ExecuteTime": {
     "end_time": "2021-12-14T09:47:05.984030Z",
     "start_time": "2021-12-14T09:33:22.425641Z"
    }
   },
   "outputs": [
    {
     "name": "stdout",
     "output_type": "stream",
     "text": [
      "0.832\n",
      "0.946\n",
      "0.842\n",
      "0.976\n",
      "0.934\n",
      "0.918\n"
     ]
    },
    {
     "ename": "KeyboardInterrupt",
     "evalue": "",
     "output_type": "error",
     "traceback": [
      "\u001b[1;31m---------------------------------------------------------------------------\u001b[0m",
      "\u001b[1;31mKeyboardInterrupt\u001b[0m                         Traceback (most recent call last)",
      "\u001b[1;32m~\\AppData\\Local\\Temp/ipykernel_27200/3080704240.py\u001b[0m in \u001b[0;36m<module>\u001b[1;34m\u001b[0m\n\u001b[0;32m     13\u001b[0m     \u001b[1;32mfor\u001b[0m \u001b[0mi\u001b[0m \u001b[1;32min\u001b[0m \u001b[0mrange\u001b[0m\u001b[1;33m(\u001b[0m\u001b[1;36m23\u001b[0m\u001b[1;33m)\u001b[0m\u001b[1;33m:\u001b[0m\u001b[1;33m\u001b[0m\u001b[1;33m\u001b[0m\u001b[0m\n\u001b[0;32m     14\u001b[0m         \u001b[0mn\u001b[0m\u001b[1;33m=\u001b[0m\u001b[0mresults\u001b[0m\u001b[1;33m[\u001b[0m\u001b[1;34m'Network'\u001b[0m\u001b[1;33m]\u001b[0m\u001b[1;33m[\u001b[0m\u001b[0mi\u001b[0m\u001b[1;33m]\u001b[0m\u001b[1;33m\u001b[0m\u001b[1;33m\u001b[0m\u001b[0m\n\u001b[1;32m---> 15\u001b[1;33m         \u001b[0mn\u001b[0m\u001b[1;33m,\u001b[0m\u001b[0mcorrects\u001b[0m\u001b[1;33m,\u001b[0m\u001b[0mfeature_history\u001b[0m\u001b[1;33m,\u001b[0m\u001b[0mtarget_history\u001b[0m\u001b[1;33m,\u001b[0m\u001b[0mdistr_history\u001b[0m\u001b[1;33m,\u001b[0m\u001b[0mdisplay\u001b[0m \u001b[1;33m=\u001b[0m \u001b[0mRunTrials\u001b[0m\u001b[1;33m(\u001b[0m\u001b[0mt\u001b[0m\u001b[1;33m,\u001b[0m\u001b[0mCurveLength\u001b[0m\u001b[1;33m,\u001b[0m\u001b[0mTrialNumber\u001b[0m\u001b[1;33m,\u001b[0m\u001b[0mn\u001b[0m\u001b[1;33m,\u001b[0m\u001b[0mdevice\u001b[0m\u001b[1;33m)\u001b[0m\u001b[1;33m\u001b[0m\u001b[1;33m\u001b[0m\u001b[0m\n\u001b[0m\u001b[0;32m     16\u001b[0m         \u001b[0mNetworks\u001b[0m\u001b[1;33m.\u001b[0m\u001b[0mappend\u001b[0m\u001b[1;33m(\u001b[0m\u001b[0mn\u001b[0m\u001b[1;33m)\u001b[0m\u001b[1;33m\u001b[0m\u001b[1;33m\u001b[0m\u001b[0m\n\u001b[0;32m     17\u001b[0m         \u001b[0mCorrects\u001b[0m\u001b[1;33m.\u001b[0m\u001b[0mappend\u001b[0m\u001b[1;33m(\u001b[0m\u001b[0mnp\u001b[0m\u001b[1;33m.\u001b[0m\u001b[0mmean\u001b[0m\u001b[1;33m(\u001b[0m\u001b[0mcorrects\u001b[0m\u001b[1;33m)\u001b[0m\u001b[1;33m)\u001b[0m\u001b[1;33m\u001b[0m\u001b[1;33m\u001b[0m\u001b[0m\n",
      "\u001b[1;32m~\\Desktop\\PhD\\CurveTracingTorch\\HelperFunctions.py\u001b[0m in \u001b[0;36mRunTrials\u001b[1;34m(t, CurveLength, TrialNumber, n, device, verbose)\u001b[0m\n\u001b[0;32m     38\u001b[0m       \u001b[0mfeature_history\u001b[0m\u001b[1;33m.\u001b[0m\u001b[0mappend\u001b[0m\u001b[1;33m(\u001b[0m\u001b[0mt\u001b[0m\u001b[1;33m.\u001b[0m\u001b[0mfeature_target\u001b[0m\u001b[1;33m)\u001b[0m\u001b[1;33m\u001b[0m\u001b[1;33m\u001b[0m\u001b[0m\n\u001b[0;32m     39\u001b[0m       \u001b[1;32mwhile\u001b[0m \u001b[0mtrial_running\u001b[0m\u001b[1;33m:\u001b[0m\u001b[1;33m\u001b[0m\u001b[1;33m\u001b[0m\u001b[0m\n\u001b[1;32m---> 40\u001b[1;33m         \u001b[0maction\u001b[0m \u001b[1;33m=\u001b[0m \u001b[0mn\u001b[0m\u001b[1;33m.\u001b[0m\u001b[0mdoStep\u001b[0m\u001b[1;33m(\u001b[0m\u001b[0mnew_input\u001b[0m\u001b[1;33m,\u001b[0m\u001b[0mreward\u001b[0m\u001b[1;33m,\u001b[0m\u001b[0mtrialEnd\u001b[0m\u001b[1;33m,\u001b[0m\u001b[0mdevice\u001b[0m\u001b[1;33m)\u001b[0m\u001b[1;33m\u001b[0m\u001b[1;33m\u001b[0m\u001b[0m\n\u001b[0m\u001b[0;32m     41\u001b[0m         \u001b[0mnew_input\u001b[0m\u001b[1;33m,\u001b[0m \u001b[0mreward\u001b[0m\u001b[1;33m,\u001b[0m \u001b[0mtrialEnd\u001b[0m \u001b[1;33m=\u001b[0m \u001b[0mt\u001b[0m\u001b[1;33m.\u001b[0m\u001b[0mdoStep\u001b[0m\u001b[1;33m(\u001b[0m\u001b[0maction\u001b[0m\u001b[1;33m)\u001b[0m\u001b[1;33m\u001b[0m\u001b[1;33m\u001b[0m\u001b[0m\n\u001b[0;32m     42\u001b[0m         \u001b[0mdisplay\u001b[0m\u001b[1;33m[\u001b[0m\u001b[0mp\u001b[0m\u001b[1;33m]\u001b[0m\u001b[1;33m.\u001b[0m\u001b[0mappend\u001b[0m\u001b[1;33m(\u001b[0m\u001b[0mn\u001b[0m\u001b[1;33m.\u001b[0m\u001b[0mX\u001b[0m\u001b[1;33m.\u001b[0m\u001b[0mdetach\u001b[0m\u001b[1;33m(\u001b[0m\u001b[1;33m)\u001b[0m\u001b[1;33m)\u001b[0m\u001b[1;33m\u001b[0m\u001b[1;33m\u001b[0m\u001b[0m\n",
      "\u001b[1;32m~\\Desktop\\PhD\\CurveTracingTorch\\Network.py\u001b[0m in \u001b[0;36mdoStep\u001b[1;34m(self, input_env, reward, reset_traces, device)\u001b[0m\n\u001b[0;32m    116\u001b[0m \u001b[1;33m\u001b[0m\u001b[0m\n\u001b[0;32m    117\u001b[0m         \u001b[1;32mif\u001b[0m \u001b[0mself\u001b[0m\u001b[1;33m.\u001b[0m\u001b[0mdosave\u001b[0m\u001b[1;33m:\u001b[0m\u001b[1;33m\u001b[0m\u001b[1;33m\u001b[0m\u001b[0m\n\u001b[1;32m--> 118\u001b[1;33m             \u001b[0mself\u001b[0m\u001b[1;33m.\u001b[0m\u001b[0msaveQ\u001b[0m\u001b[1;33m[\u001b[0m\u001b[0mlen\u001b[0m\u001b[1;33m(\u001b[0m\u001b[0mself\u001b[0m\u001b[1;33m.\u001b[0m\u001b[0msaveQ\u001b[0m\u001b[1;33m)\u001b[0m \u001b[1;33m-\u001b[0m \u001b[1;36m1\u001b[0m\u001b[1;33m]\u001b[0m\u001b[1;33m.\u001b[0m\u001b[0mappend\u001b[0m\u001b[1;33m(\u001b[0m\u001b[0mself\u001b[0m\u001b[1;33m.\u001b[0m\u001b[0mZ\u001b[0m\u001b[1;33m.\u001b[0m\u001b[0mdetach\u001b[0m\u001b[1;33m(\u001b[0m\u001b[1;33m)\u001b[0m\u001b[1;33m)\u001b[0m\u001b[1;33m\u001b[0m\u001b[1;33m\u001b[0m\u001b[0m\n\u001b[0m\u001b[0;32m    119\u001b[0m \u001b[1;33m\u001b[0m\u001b[0m\n\u001b[0;32m    120\u001b[0m         \u001b[1;32mwith\u001b[0m \u001b[0mtorch\u001b[0m\u001b[1;33m.\u001b[0m\u001b[0mno_grad\u001b[0m\u001b[1;33m(\u001b[0m\u001b[1;33m)\u001b[0m\u001b[1;33m:\u001b[0m\u001b[1;33m\u001b[0m\u001b[1;33m\u001b[0m\u001b[0m\n",
      "\u001b[1;31mKeyboardInterrupt\u001b[0m: "
     ]
    }
   ],
   "source": [
    "if not os.path.isfile('NetworksTraceActivations.pkl'):\n",
    "    CurveLength = 9\n",
    "    TrialNumber = 500\n",
    "    t = Trace(4)\n",
    "    t.onlyblue = False\n",
    "    Networks = []\n",
    "    Corrects = []\n",
    "    Feature = []\n",
    "    TargetCurve = []\n",
    "    DistrCurve = []\n",
    "    NumberOfTrial = []\n",
    "    LengthOfCurve = []\n",
    "    for i in range(23):\n",
    "        n=results['Network'][i]\n",
    "        n,corrects,feature_history,target_history,distr_history,display = RunTrials(t,CurveLength,TrialNumber,n,device)\n",
    "        Target,Distractor = MakeCurves(n,TrialNumber,Curvelength,dur)\n",
    "        TargetTrace.append(Target)\n",
    "        DistractorTrace.append(Distractor)\n",
    "        Corrects.append(np.mean(corrects))\n",
    "        Feature.append(feature_history)\n",
    "        TargetCurve.append(target_history)\n",
    "        DistrCurve.append(distr_history)\n",
    "        NumberOfTrial.append(TrialNumber)\n",
    "        LengthOfCurve.append(CurveLength)\n",
    "        \n",
    "    resultsdict = {'TargetTrace':TargetTrace,'DistractorTrace':DistractorTrace,'Corrects':Corrects,'Feature':Feature,'TargetCurve':TargetCurve,'DistractorCurve':DistrCurve,'NTrials':NumberOfTrial,'NPixels':LengthOfCurve}\n",
    "    df = pd.DataFrame(resultsdict)\n",
    "    df.to_pickle(\"NetworksTraceActivations.pkl\")"
   ]
  },
  {
   "cell_type": "code",
   "execution_count": 4,
   "id": "0d625f72",
   "metadata": {
    "ExecuteTime": {
     "end_time": "2021-12-14T09:58:35.289174Z",
     "start_time": "2021-12-14T09:58:35.262383Z"
    }
   },
   "outputs": [],
   "source": [
    "def MakeCurves(n,TrialNumber,Curvelength,dur):\n",
    "    Target = np.zeros(TrialNumber,4,dur,CurveLength,number_features)\n",
    "    Distractor = np.zeros(TrialNumber,4,dur,CurveLength,number_features)\n",
    "\n",
    "    ar = n.saveXmod\n",
    "    grid_size = 20\n",
    "    for p in range(1,TrialNumber):\n",
    "        if len(ar[p]) > dur:\n",
    "            target_hist = target_history[p-1].copy()\n",
    "            distr_hist = distr_history[p-1].copy()\n",
    "            Targettemp = np.zeros(4,dur,CurveLength,number_features)\n",
    "            Distractortemp = np.zeros(4,dur,CurveLength,number_features)\n",
    "            for i in range(dur):\n",
    "                for l in range(CurveLength):\n",
    "                    Targettemp[0,i,l,f] = n.saveXmod[p][i][0,f,target_hist[l] % grid_size, target_hist[l] //grid_size] \n",
    "                    Targettemp[1,i,l,f] = n.saveY1[p][i][0,f,target_hist[l] % grid_size, target_hist[l] //grid_size] \n",
    "                    Targettemp[2,i,l,f] = n.saveY1mod[p][i][0,f,target_hist[l] % grid_size, target_hist[l] //grid_size] \n",
    "                    Targettemp[3,i,l,f] = n.saveY2[p][i][0,f,target_hist[l] % grid_size, target_hist[l] //grid_size] \n",
    "\n",
    "                    Distractortemp[0,i,l,f] = n.saveXmod[p][i][0,f,distr_history[l] % grid_size, distr_history[l] //grid_size] \n",
    "                    Distractortemp[1,i,l,f] = n.saveY1[p][i][0,f,distr_history[l] % grid_size, distr_history[l] //grid_size] \n",
    "                    Distractortemp[2,i,l,f] = n.saveY1mod[p][i][0,f,distr_history[l] % grid_size, distr_history[l] //grid_size] \n",
    "                    Distractortemp[3,i,l,f] = n.saveY2[p][i][0,f,distr_history[l] % grid_size, distr_history[l] //grid_size] \n",
    "            Target[p,:,:,:,:] = Targettemp\n",
    "            Distarctor[p,:,:,:,:] = Distractortemp\n",
    "    return (Target,Distractor)\n",
    "          \n"
   ]
  },
  {
   "cell_type": "code",
   "execution_count": 10,
   "id": "0d9cffff",
   "metadata": {
    "ExecuteTime": {
     "end_time": "2021-12-14T07:50:36.419832Z",
     "start_time": "2021-12-14T07:50:36.217905Z"
    }
   },
   "outputs": [
    {
     "data": {
      "text/plain": [
       "<matplotlib.legend.Legend at 0x17411f37310>"
      ]
     },
     "execution_count": 10,
     "metadata": {},
     "output_type": "execute_result"
    },
    {
     "data": {
      "image/png": "[encoded data removed]",
      "text/plain": [
       "<Figure size 432x288 with 1 Axes>"
      ]
     },
     "metadata": {
      "needs_background": "light"
     },
     "output_type": "display_data"
    }
   ],
   "source": [
    "plt.figure()\n",
    "for l in range(CurveLength):\n",
    "    plt.plot(np.mean(curves[l],axis=0)/np.max(np.abs(np.mean(curves[l],axis=0))))    \n",
    "plt.legend([str(i) for i in range(CurveLength)])"
   ]
  },
  {
   "cell_type": "code",
   "execution_count": null,
   "id": "83123816",
   "metadata": {},
   "outputs": [],
   "source": [
    "if os.path.isfile('NetworksTraceActivations.pkl'):\n",
    "    with open('NetworksTraceActivations.pkl', 'rb') as input:\n",
    "        results = pickle.load(input)\n",
    "        \n",
    "    n = results['Network'][i]\n",
    "    CurveLength = results['NPixels'][i]\n",
    "    TrialNumber =  results['NTrials'][i]\n",
    "    target_history = results['Target'][i]\n",
    "    distr_history = results['Distractor'][i]\n",
    "    \n",
    "    dur = 30\n",
    "\n",
    "    Target = np.zeros((n.grid_size ** 2,4,n.n_hidden_features,CurveLength,dur))  #pixels, hidden layers, features, position on the curve, timestep\n",
    "    Distractor = np.zeros((n.grid_size ** 2,4,n.n_hidden_features,CurveLength,dur))\n",
    "    CountTarget = np.zeros((n.grid_size ** 2,4,n.n_hidden_features,CurveLength,dur))\n",
    "    CountDistractor = np.zeros((n.grid_size ** 2,4,n.n_hidden_features,CurveLength,dur))\n",
    "    for p in range(1,TrialNumber):\n",
    "            target_hist = target_history[p-1]\n",
    "            distr_hist = distr_history[p-1]\n",
    "            if corrects[p-1] == 1:\n",
    "                if len(n.saveXmod[p]) > dur-1:\n",
    "                    for i in range(dur):\n",
    "                        for l in range(CurveLength):\n",
    "                            for f in range(n.n_hidden_features):\n",
    "                                Target[target_hist[l],0,f,l,i]+=n.saveXmod[p][i][0,f,target_hist[l] % grid_size,target_hist[l] // grid_size]\n",
    "                                Target[target_hist[l],1,f,l,i]+=n.saveY1[p][i][0,f,target_hist[l] % grid_size,target_hist[l] // grid_size]\n",
    "                                Target[target_hist[l],2,f,l,i]+=n.saveY1mod[p][0,f,target_hist[l] % grid_size,target_hist[l] // grid_size]\n",
    "                                Target[target_hist[l],3,f,l,i]+=n.saveY2[p][i][0,f,target_hist[l] % grid_size,target_hist[l] // grid_size]\n",
    "\n",
    "                                CountTarget[target_hist[l],0,f,l,i] += 1\n",
    "                                CountTarget[target_hist[l],1,f,l,i] += 1\n",
    "                                CountTarget[target_hist[l],2,f,l,i] += 1\n",
    "                                CountTarget[target_hist[l],3,f,l,i] += 1\n",
    "\n",
    "                                Distractor[distr_hist[l],0,f,l,i]+=n.saveXmod[p][i][0,f,distr_hist[l] % grid_size,distr_hist[l] // grid_size]\n",
    "                                Distractor[distr_hist[l],1,f,l,i]+=n.saveY1[p][i][0,f,distr_hist[l] % grid_size,distr_hist[l] // grid_size]\n",
    "                                Distractor[distr_hist[l],2,f,l,i]+=n.saveY1mod[p][0,f,distr_hist[l] % grid_size,distr_hist[l] // grid_size]\n",
    "                                Distractor[distr_hist[l],3,f,l,i]+=n.saveY2[p][i][0,f,distr_hist[l] % grid_size,distr_hist[l] // grid_size]\n",
    "\n",
    "                                CountDistractor[distr_hist[l],0,f,l,i] += 1\n",
    "                                CountDistractor[distr_hist[l],1,f,l,i] += 1\n",
    "                                CountDistractor[distr_hist[l],2,f,l,i] += 1\n",
    "                                CountDistractor[distr_hist[l],3,f,l,i] += 1\n",
    "\n",
    "    Target = Target/CountTarget\n",
    "    Distractor = Distractor/CountDistractor"
   ]
  },
  {
   "cell_type": "code",
   "execution_count": null,
   "id": "7db64adc",
   "metadata": {},
   "outputs": [],
   "source": [
    "Test = Target - Distractor\n",
    "TestTest = np.nanmean(Test,axis = (0,1,2))\n",
    "\n",
    "Modulation = (Target - Distractor) / ((Target + Distractor) / 2)"
   ]
  },
  {
   "cell_type": "code",
   "execution_count": null,
   "id": "30ab2422",
   "metadata": {},
   "outputs": [],
   "source": [
    "TestTestTest = TestTest/np.expand_dims(np.max(TestTest,axis = 1),axis = 1)"
   ]
  },
  {
   "cell_type": "code",
   "execution_count": null,
   "id": "23c80634",
   "metadata": {},
   "outputs": [],
   "source": [
    "Dprime = Modulation[:,:,:,:,-1].flatten()"
   ]
  },
  {
   "cell_type": "code",
   "execution_count": null,
   "id": "b8408423",
   "metadata": {},
   "outputs": [],
   "source": [
    "plt.hist(Dprime,bins=50)"
   ]
  }
 ],
 "metadata": {
  "kernelspec": {
   "display_name": "Python 3 (ipykernel)",
   "language": "python",
   "name": "python3"
  },
  "language_info": {
   "codemirror_mode": {
    "name": "ipython",
    "version": 3
   },
   "file_extension": ".py",
   "mimetype": "text/x-python",
   "name": "python",
   "nbconvert_exporter": "python",
   "pygments_lexer": "ipython3",
   "version": "3.8.12"
  },
  "toc": {
   "base_numbering": 1,
   "nav_menu": {},
   "number_sections": true,
   "sideBar": true,
   "skip_h1_title": false,
   "title_cell": "Table of Contents",
   "title_sidebar": "Contents",
   "toc_cell": false,
   "toc_position": {},
   "toc_section_display": true,
   "toc_window_display": false
  },
  "varInspector": {
   "cols": {
    "lenName": 16,
    "lenType": 16,
    "lenVar": 40
   },
   "kernels_config": {
    "python": {
     "delete_cmd_postfix": "",
     "delete_cmd_prefix": "del ",
     "library": "var_list.py",
     "varRefreshCmd": "print(var_dic_list())"
    },
    "r": {
     "delete_cmd_postfix": ") ",
     "delete_cmd_prefix": "rm(",
     "library": "var_list.r",
     "varRefreshCmd": "cat(var_dic_list()) "
    }
   },
   "types_to_exclude": [
    "module",
    "function",
    "builtin_function_or_method",
    "instance",
    "_Feature"
   ],
   "window_display": false
  }
 },
 "nbformat": 4,
 "nbformat_minor": 5
}
