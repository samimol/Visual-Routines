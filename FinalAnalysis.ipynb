{
 "cells": [
  {
   "cell_type": "code",
   "execution_count": 1,
   "metadata": {
    "ExecuteTime": {
     "end_time": "2022-03-02T14:20:09.705546Z",
     "start_time": "2022-03-02T14:20:05.716273Z"
    },
    "id": "jGIsLdYOB3Cl"
   },
   "outputs": [],
   "source": [
    "from Network import *\n",
    "from Task import *\n",
    "from HelperFunctions import *\n",
    "import os\n",
    "import pandas as pd\n",
    "import pickle\n",
    "import matplotlib.pyplot as plt\n",
    "import seaborn as sns\n",
    "import scipy.interpolate\n",
    "import numpy as np\n",
    "\n",
    "device = None"
   ]
  },
  {
   "cell_type": "code",
   "execution_count": 2,
   "metadata": {
    "ExecuteTime": {
     "end_time": "2022-03-02T14:20:11.371852Z",
     "start_time": "2022-03-02T14:20:11.363655Z"
    }
   },
   "outputs": [],
   "source": [
    "TASK = 'trace' #'tracesearch' 'searchtrace'\n",
    "SAVE = False\n",
    "figure_folder = r'C:\\Users\\Sami\\Desktop\\PhD\\Paper\\Figures'"
   ]
  },
  {
   "cell_type": "markdown",
   "metadata": {
    "id": "uXJZj6icCcbO"
   },
   "source": [
    "# **Make the database**"
   ]
  },
  {
   "cell_type": "code",
   "execution_count": 87,
   "metadata": {
    "id": "YESYsptYCi-X"
   },
   "outputs": [],
   "source": [
    "if not os.path.isfile('NetworksTrace.pkl'):\n",
    "    Networks = []\n",
    "    Trials = []\n",
    "    Generalization = []\n",
    "    \n",
    "    with open('ResultsTracetorch.pkl', 'rb') as input:\n",
    "        results = pickle.load(input)\n",
    "    \n",
    "    ListNetwork = [results[i][0][0] for i in range(23)]\n",
    "    ListPerfo = [results[i][0][1] for i in range(23)]\n",
    "    ListGene = [results[i][0][2] for i in range(23)]\n",
    "\n",
    "    resultsdict = {'Network':ListNetwork,'Performance':ListPerfo,'Generalization':ListGene}\n",
    "\n",
    "    df = pd.DataFrame(resultsdict)\n",
    "    df.to_pickle(\"NetworksTrace.pkl\")\n",
    "\n",
    "if not os.path.isfile('NetworksSearchTrace.pkl'):\n",
    "    Networks = []\n",
    "    Trials = []\n",
    "    Generalization = []\n",
    "    \n",
    "    with open('ResultsSearchTracetorch.pkl', 'rb') as input:\n",
    "        results = pickle.load(input)\n",
    "    \n",
    "    ListNetwork = [results[i][0][0] for i in range(23)]\n",
    "    ListPerfo = [results[i][0][1] for i in range(23)]\n",
    "    ListGene = [results[i][0][2] for i in range(23)]\n",
    "\n",
    "    resultsdict = {'Network':ListNetwork,'Performance':ListPerfo,'Generalization':ListGene}\n",
    "\n",
    "    df = pd.DataFrame(resultsdict)\n",
    "    df.to_pickle(\"NetworksSearchTrace.pkl\")\n",
    "\n",
    "if not os.path.isfile('NetworksTraceSearch.pkl'):\n",
    "    Networks = []\n",
    "    Trials = []\n",
    "    Generalization = []\n",
    "    \n",
    "    with open('ResultsTraceSearchtorch.pkl', 'rb') as input:\n",
    "        results = pickle.load(input)\n",
    "    \n",
    "    ListNetwork = [results[i][0][0] for i in range(23)]\n",
    "    ListPerfo = [results[i][0][1] for i in range(23)]\n",
    "    ListGene = [results[i][0][2] for i in range(23)]\n",
    "\n",
    "    resultsdict = {'Network':ListNetwork,'Performance':ListPerfo,'Generalization':ListGene}\n",
    "\n",
    "    df = pd.DataFrame(resultsdict)\n",
    "    df.to_pickle(\"NetworksTraceSearch.pkl\")"
   ]
  },
  {
   "cell_type": "code",
   "execution_count": 51,
   "metadata": {
    "ExecuteTime": {
     "end_time": "2022-02-23T12:41:49.024214Z",
     "start_time": "2022-02-23T12:41:48.805382Z"
    },
    "colab": {
     "base_uri": "https://localhost:8080/",
     "height": 356
    },
    "id": "5u3uLtc53XKY",
    "outputId": "a3591319-9ac8-4bb8-bf9d-3656e839ed99"
   },
   "outputs": [],
   "source": [
    "if TASK == 'trace':\n",
    "    networks_base = open_base('NetworksTrace')\n",
    "elif TASK == 'searchtrace':\n",
    "  networks_base = open_base('NetworksSearchTrace')\n",
    "elif TASK == 'tracesearch':\n",
    "  networks_base = open_base('NetworksTraceSearch')\n",
    "else:\n",
    "  raise Exception('TASK should be trace, tracesearch or searchtrace')"
   ]
  },
  {
   "cell_type": "code",
   "execution_count": 4,
   "metadata": {
    "ExecuteTime": {
     "end_time": "2022-01-19T15:06:55.973035Z",
     "start_time": "2022-01-19T15:06:55.959073Z"
    }
   },
   "outputs": [
    {
     "data": {
      "text/plain": [
       "[22007,\n",
       " 20008,\n",
       " 20007,\n",
       " 22008,\n",
       " 24007,\n",
       " 22007,\n",
       " 24006,\n",
       " 26006,\n",
       " 28006,\n",
       " 28006,\n",
       " 26008,\n",
       " 28007,\n",
       " 28006,\n",
       " 32007,\n",
       " 30007,\n",
       " 38005,\n",
       " 50007,\n",
       " 50005,\n",
       " 64006,\n",
       " 100000,\n",
       " 100000,\n",
       " 100000,\n",
       " 100000]"
      ]
     },
     "execution_count": 4,
     "metadata": {},
     "output_type": "execute_result"
    }
   ],
   "source": [
    "length = []\n",
    "for i in range(len(networks_base['Network'])):\n",
    "        length.append(len(networks_base['Performance'][i]))\n",
    "length"
   ]
  },
  {
   "cell_type": "markdown",
   "metadata": {
    "id": "6OE-4RR6Dedk"
   },
   "source": [
    "## Generalization"
   ]
  },
  {
   "cell_type": "code",
   "execution_count": 52,
   "metadata": {
    "ExecuteTime": {
     "end_time": "2022-02-23T12:41:50.841601Z",
     "start_time": "2022-02-23T12:41:50.405439Z"
    },
    "colab": {
     "base_uri": "https://localhost:8080/",
     "height": 628
    },
    "id": "YrzA3AcyDdBn",
    "outputId": "5809c390-e9ed-4fe7-ad8f-5269c4069faa",
    "scrolled": true
   },
   "outputs": [
    {
     "name": "stderr",
     "output_type": "stream",
     "text": [
      "C:\\Users\\Sami\\AppData\\Local\\Temp/ipykernel_20244/957367177.py:11: RuntimeWarning: Mean of empty slice\n",
      "  Gen = np.nanmean(Generalization,axis=2)\n",
      "C:\\Users\\Sami\\anaconda3\\envs\\pytorch\\lib\\site-packages\\numpy\\lib\\nanfunctions.py:1670: RuntimeWarning: Degrees of freedom <= 0 for slice.\n",
      "  var = nanvar(a, axis=axis, dtype=dtype, out=out, ddof=ddof,\n"
     ]
    },
    {
     "name": "stdout",
     "output_type": "stream",
     "text": [
      "\n"
     ]
    },
    {
     "data": {
      "image/png": "[encoded data removed]",
      "text/plain": [
       "<Figure size 432x720 with 1 Axes>"
      ]
     },
     "metadata": {},
     "output_type": "display_data"
    }
   ],
   "source": [
    "sns.set(rc={'figure.figsize':(6,10)})\n",
    "number_converged = len([len(networks_base['Performance'][i]) for i in range(len(networks_base)) if len(networks_base['Performance'][i])<100000])\n",
    "Generalization = np.zeros((7,10,number_converged))\n",
    "j=0\n",
    "for i in range(len(networks_base)):\n",
    "        if len(networks_base['Performance'][i]) < 100000:\n",
    "          Generalization[:,:,j] = networks_base['Generalization'][i]\n",
    "          j += 1\n",
    "\n",
    "Generalization[Generalization == 0] = np.nan\n",
    "Gen = np.nanmean(Generalization,axis=2)\n",
    "Std = np.nanstd(Generalization,axis=2)\n",
    "SemPlus =  Gen + Std / np.sqrt(number_converged)\n",
    "SemMinus = Gen - Std / np.sqrt(number_converged)\n",
    "#Gen[Gen == 0] = np.nan\n",
    "\n",
    "plt.plot(np.diag(Gen,0))\n",
    "plt.fill_between(np.arange(7), np.diag(SemPlus,0),np.diag(SemMinus,0), color='b', alpha=.1)\n",
    "print()\n",
    "\n",
    "plt.plot(np.diag(Gen,1))\n",
    "plt.fill_between(np.arange(7), np.diag(SemPlus,1),np.diag(SemMinus,1), color='orange', alpha=.1)\n",
    "\n",
    "plt.plot(np.diag(Gen,2))\n",
    "plt.fill_between(np.arange(7), np.diag(SemPlus,2),np.diag(SemMinus,2), color='g', alpha=.1)\n",
    "\n",
    "plt.plot(np.diag(Gen,3))\n",
    "plt.fill_between(np.arange(7), np.diag(SemPlus,3),np.diag(SemMinus,3), color='r', alpha=.1)\n",
    "\n",
    "plt.legend(['1 more pixel','2 more pixels','3 more pixels','4 more pixels'])\n",
    "plt.xlabel('Maximum length seen during training')\n",
    "plt.xticks([0,1,2,3,4,5,6],[3,4,5,6,7,8,9])\n",
    "plt.ylabel('Testing accuracy')\n",
    "plt.ylim([0.5,1])\n",
    "\n",
    "\n",
    "if SAVE:\n",
    "    plt.savefig(figure_folder+'\\generalization_' + TASK  +'.eps', format='eps')"
   ]
  },
  {
   "cell_type": "code",
   "execution_count": 53,
   "metadata": {
    "ExecuteTime": {
     "end_time": "2022-02-23T12:41:51.073889Z",
     "start_time": "2022-02-23T12:41:51.063246Z"
    }
   },
   "outputs": [
    {
     "name": "stdout",
     "output_type": "stream",
     "text": [
      "9.5367431640625e-07\n"
     ]
    }
   ],
   "source": [
    "test = np.diagonal(Generalization,offset =3,axis1=0,axis2=1)\n",
    "from scipy.stats import wilcoxon\n",
    "w, p = wilcoxon(test[:,-1]-0.5)\n",
    "print(p)"
   ]
  },
  {
   "cell_type": "code",
   "execution_count": 47,
   "metadata": {
    "ExecuteTime": {
     "end_time": "2022-02-23T12:40:49.698529Z",
     "start_time": "2022-02-23T12:40:49.684993Z"
    }
   },
   "outputs": [
    {
     "data": {
      "text/plain": [
       "array([[0.526, 0.67 , 0.686, 0.642, 0.684, 0.71 , 0.816],\n",
       "       [0.53 , 0.524, 0.666, 0.59 , 0.774, 0.964, 0.952],\n",
       "       [0.55 , 0.672, 0.614, 0.59 , 0.664, 0.652, 0.994],\n",
       "       [0.524, 0.714, 0.736, 0.684, 0.89 , 0.97 , 0.952],\n",
       "       [0.496, 0.504, 0.718, 0.696, 0.948, 0.9  , 0.94 ],\n",
       "       [0.536, 0.666, 0.72 , 0.688, 0.734, 0.956, 0.988],\n",
       "       [0.564, 0.732, 0.724, 0.596, 0.66 , 0.702, 0.834],\n",
       "       [0.486, 0.692, 0.622, 0.582, 0.684, 0.81 , 0.654],\n",
       "       [0.516, 0.55 , 0.678, 0.72 , 0.972, 0.958, 0.954],\n",
       "       [0.538, 0.55 , 0.732, 0.73 , 0.678, 0.766, 0.89 ],\n",
       "       [0.546, 0.662, 0.588, 0.66 , 0.604, 0.752, 0.678],\n",
       "       [0.518, 0.506, 0.592, 0.648, 0.642, 0.968, 0.946],\n",
       "       [0.496, 0.61 , 0.674, 0.724, 0.746, 0.788, 0.992],\n",
       "       [0.532, 0.696, 0.756, 0.614, 0.706, 0.976, 0.978],\n",
       "       [0.502, 0.728, 0.712, 0.7  , 0.808, 0.89 , 0.868],\n",
       "       [0.524, 0.71 , 0.744, 0.65 , 0.914, 0.98 , 0.724],\n",
       "       [0.544, 0.658, 0.6  , 0.558, 0.712, 0.686, 0.908],\n",
       "       [0.566, 0.622, 0.7  , 0.714, 0.922, 0.924, 0.914],\n",
       "       [0.532, 0.52 , 0.624, 0.686, 0.706, 0.882, 0.886],\n",
       "       [0.528, 0.528, 0.732, 0.764, 0.636,   nan,   nan],\n",
       "       [0.53 , 0.534, 0.712, 0.734,   nan,   nan,   nan],\n",
       "       [0.52 , 0.628, 0.58 , 0.608, 0.738,   nan,   nan],\n",
       "       [0.536, 0.588, 0.646, 0.658, 0.592, 0.47 ,   nan]])"
      ]
     },
     "execution_count": 47,
     "metadata": {},
     "output_type": "execute_result"
    }
   ],
   "source": [
    "test"
   ]
  },
  {
   "cell_type": "markdown",
   "metadata": {
    "id": "Xtymlam2Cyov"
   },
   "source": [
    "# **Run and save**"
   ]
  },
  {
   "cell_type": "code",
   "execution_count": 6,
   "metadata": {
    "ExecuteTime": {
     "end_time": "2022-02-15T10:49:30.245185Z",
     "start_time": "2022-02-15T10:49:30.223038Z"
    }
   },
   "outputs": [
    {
     "data": {
      "text/plain": [
       "array([[0.72 , 0.624, 0.538, 0.56 , 0.   , 0.   , 0.   , 0.   , 0.   ,\n",
       "        0.   ],\n",
       "       [0.   , 0.87 , 0.768, 0.718, 0.712, 0.   , 0.   , 0.   , 0.   ,\n",
       "        0.   ],\n",
       "       [0.   , 0.   , 0.854, 0.796, 0.73 , 0.678, 0.   , 0.   , 0.   ,\n",
       "        0.   ],\n",
       "       [0.   , 0.   , 0.   , 0.91 , 0.83 , 0.786, 0.728, 0.   , 0.   ,\n",
       "        0.   ],\n",
       "       [0.   , 0.   , 0.   , 0.   , 0.97 , 0.948, 0.924, 0.882, 0.   ,\n",
       "        0.   ],\n",
       "       [0.   , 0.   , 0.   , 0.   , 0.   , 0.902, 0.846, 0.728, 0.65 ,\n",
       "        0.   ],\n",
       "       [0.   , 0.   , 0.   , 0.   , 0.   , 0.   , 0.922, 0.91 , 0.894,\n",
       "        0.87 ]])"
      ]
     },
     "execution_count": 6,
     "metadata": {},
     "output_type": "execute_result"
    }
   ],
   "source": [
    "networks_base['Generalization'][4]"
   ]
  },
  {
   "cell_type": "code",
   "execution_count": 4,
   "metadata": {
    "ExecuteTime": {
     "end_time": "2022-02-15T11:36:10.690098Z",
     "start_time": "2022-02-15T11:29:47.143166Z"
    },
    "colab": {
     "base_uri": "https://localhost:8080/"
    },
    "id": "nF3MQWnDC71U",
    "outputId": "a9232f71-2357-49e8-87bb-ce606cfb18e7",
    "scrolled": true
   },
   "outputs": [
    {
     "name": "stdout",
     "output_type": "stream",
     "text": [
      "0.96\n",
      "Network 0 done\n"
     ]
    },
    {
     "name": "stderr",
     "output_type": "stream",
     "text": [
      "C:\\Users\\Sami\\AppData\\Local\\Temp/ipykernel_7448/219479371.py:42: RuntimeWarning: invalid value encountered in true_divide\n",
      "  Target = Target/CountTarget\n",
      "C:\\Users\\Sami\\AppData\\Local\\Temp/ipykernel_7448/219479371.py:43: RuntimeWarning: invalid value encountered in true_divide\n",
      "  Distractor = Distractor/CountDistractor\n"
     ]
    }
   ],
   "source": [
    "CurveLength = 9\n",
    "TrialNumber = 1000\n",
    "t = SearchTrace(4)\n",
    "t.no_curves = False\n",
    "t.only_trace_curve = False\n",
    "TargetTrace = []\n",
    "DistractorTrace = []\n",
    "Corrects = []\n",
    "Feature = []\n",
    "TargetCurve = []\n",
    "DistrCurve = []\n",
    "NumberOfTrial = []\n",
    "LengthOfCurve = []\n",
    "max_dur = 50\n",
    "\n",
    "\n",
    "for i in range(15,19):\n",
    "    #if networks_base['has_converged'][i]:\n",
    "        n=networks_base['Network'][i]\n",
    "        Target = np.zeros((n.grid_size ** 2+2,4,n.n_hidden_features,CurveLength+1,max_dur))  #pixels, hidden layers, features, position on the curve, timestep\n",
    "        Distractor = np.zeros((n.grid_size ** 2+2,4,n.n_hidden_features,CurveLength+1,max_dur))\n",
    "        CountTarget = np.zeros((n.grid_size ** 2+2,4,n.n_hidden_features,CurveLength+1,max_dur))\n",
    "        CountDistractor = np.zeros((n.grid_size ** 2+2,4,n.n_hidden_features,CurveLength+1,max_dur))\n",
    "        CorrectsInterm = []\n",
    "        FeatureInterm = []\n",
    "        TargetCurveInterm = []\n",
    "        DistrCurveInterm = []\n",
    "        NumberOfTrialInterm = []\n",
    "        LengthOfCurveInterm = []\n",
    "        for j in range(1):\n",
    "          n=networks_base['Network'][i]\n",
    "          n,corrects,feature_history,target_history,distr_history,position_history,display = RunTrials(t,CurveLength,TrialNumber,n,device)\n",
    "            \n",
    "          CorrectsInterm = CorrectsInterm + corrects\n",
    "          FeatureInterm = FeatureInterm + feature_history\n",
    "          TargetCurveInterm = TargetCurveInterm + target_history\n",
    "          DistrCurveInterm = DistrCurveInterm + distr_history\n",
    "        \n",
    "          Target,Distractor,CountTarget,CountDistractor = AverageTraces(n,CurveLength,TrialNumber,max_dur,target_history,distr_history,position_history,feature_history,corrects,Target,Distractor,CountTarget,CountDistractor)\n",
    "        print('Network '+str(i)+' done')\n",
    "        Target = Target/CountTarget\n",
    "        Distractor = Distractor/CountDistractor\n",
    "        TargetTrace.append(Target)\n",
    "        DistractorTrace.append(Distractor)\n",
    "        Corrects.append(np.mean(CorrectsInterm))\n",
    "        Feature.append(FeatureInterm)\n",
    "        TargetCurve.append(TargetCurveInterm)\n",
    "        DistrCurve.append(DistrCurveInterm)\n",
    "        NumberOfTrial.append(TrialNumber)\n",
    "        LengthOfCurve.append(CurveLength)\n",
    "\n",
    "resultsdict = {'TargetTrace':TargetTrace,'DistractorTrace':DistractorTrace,'Corrects':Corrects,'Feature':Feature,'TargetCurve':TargetCurve,'DistractorCurve':DistrCurve,'NTrials':NumberOfTrial,'NPixels':LengthOfCurve}\n",
    "df = pd.DataFrame(resultsdict)\n",
    "df.to_pickle(\"NetworksSearchTraceActivations4.pkl\")"
   ]
  },
  {
   "cell_type": "code",
   "execution_count": 5,
   "metadata": {
    "ExecuteTime": {
     "end_time": "2022-01-14T12:31:11.402971Z",
     "start_time": "2022-01-14T12:31:11.041447Z"
    }
   },
   "outputs": [
    {
     "data": {
      "text/plain": [
       "80.0"
      ]
     },
     "execution_count": 5,
     "metadata": {},
     "output_type": "execute_result"
    },
    {
     "data": {
      "image/png": "[encoded data removed]",
      "text/plain": [
       "<Figure size 432x288 with 1 Axes>"
      ]
     },
     "metadata": {
      "needs_background": "light"
     },
     "output_type": "display_data"
    }
   ],
   "source": [
    "a = []\n",
    "for i in range(1,1001):\n",
    "    a.append((len(n.saveXmod[i])))\n",
    "plt.hist(a)\n",
    "np.median(a)"
   ]
  },
  {
   "cell_type": "code",
   "execution_count": 18,
   "metadata": {
    "ExecuteTime": {
     "end_time": "2022-01-06T13:54:06.813056Z",
     "start_time": "2022-01-06T13:54:05.122489Z"
    }
   },
   "outputs": [],
   "source": [
    "df = pd.DataFrame(resultsdict)\n",
    "df.to_pickle(\"NetworksTraceActivations.pkl\")"
   ]
  },
  {
   "cell_type": "markdown",
   "metadata": {},
   "source": [
    "## Results"
   ]
  },
  {
   "cell_type": "code",
   "execution_count": 3,
   "metadata": {
    "ExecuteTime": {
     "end_time": "2022-03-02T14:20:39.798993Z",
     "start_time": "2022-03-02T14:20:21.077284Z"
    }
   },
   "outputs": [],
   "source": [
    "TASK = 'trace'\n",
    "\n",
    "if TASK == 'trace':\n",
    "    traces = open_base('NetworksTraceActivations')\n",
    "elif TASK == 'searchtrace':\n",
    "  traces = open_base('NetworksSearchTraceActivations')\n",
    "elif TASK == 'tracesearch':\n",
    "  traces = open_base('NetworksTraceSearchActivations')\n",
    "else:\n",
    "  raise Exception('TASK should be trace, tracesearch or searchtrace')\n",
    "\n",
    "\n",
    "Target = np.zeros((402, 4, 4, 10, 50,len(traces['NPixels'])))\n",
    "Distractor = np.zeros((402, 4, 4, 10, 50,len(traces['NPixels'])))\n",
    "\n",
    "for i in range(len(traces['NPixels'])):\n",
    "    Target[:,:,:,:,:,i] = traces['TargetTrace'][i]\n",
    "    Distractor[:,:,:,:,:,i] = traces['DistractorTrace'][i]"
   ]
  },
  {
   "cell_type": "markdown",
   "metadata": {},
   "source": [
    "### Timecourse of modulation"
   ]
  },
  {
   "cell_type": "code",
   "execution_count": 17,
   "metadata": {
    "ExecuteTime": {
     "end_time": "2022-03-02T13:41:01.475759Z",
     "start_time": "2022-03-02T13:41:01.458280Z"
    }
   },
   "outputs": [
    {
     "data": {
      "text/plain": [
       "(10, 50)"
      ]
     },
     "execution_count": 17,
     "metadata": {},
     "output_type": "execute_result"
    }
   ],
   "source": [
    "normalized_TD.shape"
   ]
  },
  {
   "cell_type": "code",
   "execution_count": 22,
   "metadata": {
    "ExecuteTime": {
     "end_time": "2022-03-02T13:42:30.098520Z",
     "start_time": "2022-03-02T13:42:28.385906Z"
    },
    "colab": {
     "base_uri": "https://localhost:8080/",
     "height": 767
    },
    "id": "ECcbSMHgC-gP",
    "outputId": "235ea668-11af-4a52-a424-cd967b12a5d7"
   },
   "outputs": [
    {
     "name": "stderr",
     "output_type": "stream",
     "text": [
      "C:\\Users\\Sami\\AppData\\Local\\Temp/ipykernel_21260/3028481377.py:2: RuntimeWarning: Mean of empty slice\n",
      "  TD = np.nanmean(Target,axis=-1) - np.nanmean(Distractor,axis=-1)\n",
      "C:\\Users\\Sami\\AppData\\Local\\Temp/ipykernel_21260/3028481377.py:5: RuntimeWarning: invalid value encountered in true_divide\n",
      "  normalized_TD = normalized_TD/np.expand_dims(np.max(normalized_TD,axis = 1),axis = 1)\n"
     ]
    },
    {
     "data": {
      "image/png": "[encoded data removed]",
      "text/plain": [
       "<Figure size 720x432 with 1 Axes>"
      ]
     },
     "metadata": {},
     "output_type": "display_data"
    }
   ],
   "source": [
    "sns.set(rc={'figure.figsize':(10,6)})\n",
    "TD = np.nanmean(Target,axis=-1) - np.nanmean(Distractor,axis=-1)\n",
    "#TD = Target - Distractor\n",
    "normalized_TD = np.nanmean(TD,axis = (0,1,2))\n",
    "normalized_TD = normalized_TD/np.expand_dims(np.max(normalized_TD,axis = 1),axis = 1)\n",
    "plt.plot(normalized_TD.T)\n",
    "plt.legend(['0','1','2','3','4','5','6','7','8','Marker'])\n",
    "\n",
    "if SAVE:\n",
    "    plt.savefig(figure_folder+'\\\\timecourse_' + TASK  +'.eps', format='eps')"
   ]
  },
  {
   "cell_type": "markdown",
   "metadata": {},
   "source": [
    "### Sign of modulation"
   ]
  },
  {
   "cell_type": "code",
   "execution_count": 4,
   "metadata": {
    "ExecuteTime": {
     "end_time": "2022-03-02T14:20:56.421264Z",
     "start_time": "2022-03-02T14:20:50.693096Z"
    },
    "colab": {
     "base_uri": "https://localhost:8080/",
     "height": 701
    },
    "id": "jaMrUlTmDwS0",
    "outputId": "2b9ba9ac-4c33-4e6c-849d-65feb4b30779"
   },
   "outputs": [
    {
     "name": "stderr",
     "output_type": "stream",
     "text": [
      "C:\\Users\\Sami\\AppData\\Local\\Temp/ipykernel_7880/3356423938.py:2: RuntimeWarning: invalid value encountered in true_divide\n",
      "  Modulation = (Target - Distractor) / ((Target + Distractor) / 2)\n",
      "C:\\Users\\Sami\\AppData\\Local\\Temp/ipykernel_7880/3356423938.py:3: RuntimeWarning: Mean of empty slice\n",
      "  Modulation = np.nanmean(Modulation,axis = -1)\n"
     ]
    },
    {
     "data": {
      "image/png": "[encoded data removed]",
      "text/plain": [
       "<Figure size 720x360 with 1 Axes>"
      ]
     },
     "metadata": {},
     "output_type": "display_data"
    }
   ],
   "source": [
    "sns.set(rc={'figure.figsize':(10,5)})\n",
    "Modulation = (Target - Distractor) / ((Target + Distractor) / 2)\n",
    "Modulation = np.nanmean(Modulation,axis = -1)\n",
    "Dprime = Modulation[:,:,:,:,-1].flatten()\n",
    "plt.hist(Dprime,density=True,bins=20)\n",
    "\n",
    "if SAVE:\n",
    "    plt.savefig(figure_folder+'\\modulation_' + TASK  +'.eps', format='eps')"
   ]
  },
  {
   "cell_type": "code",
   "execution_count": 17,
   "metadata": {
    "ExecuteTime": {
     "end_time": "2022-03-02T14:55:45.907100Z",
     "start_time": "2022-03-02T14:55:45.891977Z"
    }
   },
   "outputs": [
    {
     "data": {
      "text/plain": [
       "0.7691844176152779"
      ]
     },
     "execution_count": 17,
     "metadata": {},
     "output_type": "execute_result"
    }
   ],
   "source": [
    "y = np.nanmean(Dprime)\n",
    "y"
   ]
  },
  {
   "cell_type": "code",
   "execution_count": 18,
   "metadata": {
    "ExecuteTime": {
     "end_time": "2022-03-02T14:55:48.151112Z",
     "start_time": "2022-03-02T14:55:48.132048Z"
    }
   },
   "outputs": [
    {
     "data": {
      "text/plain": [
       "1.2498776073747337"
      ]
     },
     "execution_count": 18,
     "metadata": {},
     "output_type": "execute_result"
    }
   ],
   "source": [
    "(1+0.5*y)/(1-0.5*y) - 1"
   ]
  },
  {
   "cell_type": "markdown",
   "metadata": {
    "id": "8BnoTpsBG7z4"
   },
   "source": [
    "### Cumulative modulation latency at individual recording sites"
   ]
  },
  {
   "cell_type": "code",
   "execution_count": 51,
   "metadata": {
    "ExecuteTime": {
     "end_time": "2022-03-02T13:51:45.393449Z",
     "start_time": "2022-03-02T13:51:45.362216Z"
    }
   },
   "outputs": [],
   "source": [
    "def latency_operation2(TD,operation,TASK,CurveLength,number_interpolation_points=500,dur=39,criterion=0.3,position_on_curve=0):\n",
    "    \n",
    "    if operation == 'search':\n",
    "        neurons = [0,1] #first two neurons correspond to the search operation\n",
    "        position_on_curve = -1 #we arbitrarily put them at the end of the curve_length dimension in TD\n",
    "    elif operation == 'trace':\n",
    "        neurons = np.arange(2,TD.shape[0])\n",
    "    else:\n",
    "        raise Exception(\"Operation is either search or trace\")\n",
    "        \n",
    "    if operation == 'trace' and TASK == 'searchtrace':\n",
    "        position_on_curve = 0 #in the search then trace task, the trace follows the search\n",
    "    elif operation == 'trace' and TASK == 'tracesearch':\n",
    "        position_on_curve = CurveLength - 1 #in the trace then searcg task, the trace precedes the search\n",
    "    elif TASK == 'trace':\n",
    "        position_on_curve = position_on_curve\n",
    "        \n",
    "    \n",
    "    #Interpolating the response curve to have non-integer latency of modulation   \n",
    "    normalized_TD = TD[neurons,:,:,position_on_curve,:]/np.expand_dims(np.max(np.abs(TD[neurons,:,:,position_on_curve,:]),axis = -1),axis=-1)\n",
    "    interpollation_function = scipy.interpolate.interp1d(np.arange(0,dur), normalized_TD, kind='linear',axis=-1)\n",
    "    interpolated_normalized_TD = interpollation_function(np.linspace(0, dur-1, num=number_interpolation_points))\n",
    "    smoothed_interpolated_normalized_TD = uniform_filter1d(interpolated_normalized_TD, size=100,axis = -1)\n",
    "    \n",
    "    \n",
    "    #Modulation condition: criterion * difference between beginning and end\n",
    "    condition = np.abs(np.max(smoothed_interpolated_normalized_TD,axis=-1)-np.min(smoothed_interpolated_normalized_TD,axis=-1)) * criterion + np.min(smoothed_interpolated_normalized_TD,axis=-1)\n",
    "    condition = np.expand_dims(condition,axis=-1)\n",
    "    \n",
    "    #Getting the timestep when the modulation is greater than criterion%\n",
    "    latency = np.nanargmin(smoothed_interpolated_normalized_TD[:,:,:,::-1]>condition,axis=-1)\n",
    "    latency = latency.astype('float')\n",
    "    latency = 499 - latency\n",
    "\n",
    "    #Removing recording site with non-positive mor non monotonous modulation\n",
    "    latency[np.isnan(smoothed_interpolated_normalized_TD[:,:,:,0])] = np.nan\n",
    "    if not ((operation == 'search' and TASK == 'searchtrace') or TASK=='trace'): #in the search trace operation for operation search only one marker is active so the initial activity will necessarily be greater than 0\n",
    "        latency[smoothed_interpolated_normalized_TD[:,:,:,0] < -0.02] = np.nan\n",
    "        latency[smoothed_interpolated_normalized_TD[:,:,:,0] > 0.02] = np.nan\n",
    "    latency[smoothed_interpolated_normalized_TD[:,:,:,-1] < 0.5] = np.nan #modulation at the end is lower than half of the max\n",
    "    latency[smoothed_interpolated_normalized_TD[:,:,:,0]>=0.5] = np.nan #modulation at the beggining is greater than half of the max\n",
    "    latency[np.abs(np.\n",
    "                   max(smoothed_interpolated_normalized_TD,axis=-1)-np.min(smoothed_interpolated_normalized_TD,axis=-1)) < 0.05] = np.nan #constant modulation\n",
    "    latency[np.max(smoothed_interpolated_normalized_TD,axis=-1)<=0] = np.nan #modulation is negative\n",
    "    latency[smoothed_interpolated_normalized_TD[:,:,:,-1] < smoothed_interpolated_normalized_TD[:,:,:,0]] = np.nan #modulation at the beginning is greater than at the end\n",
    "\n",
    "\n",
    "    #Keeping non nan entries\n",
    "    latency = latency[~np.isnan(latency)]\n",
    "    latency = latency.astype('int')\n",
    "    latency = np.linspace(0, dur-1, num=number_interpolation_points)[latency] \n",
    "    \n",
    "    return latency\n"
   ]
  },
  {
   "cell_type": "code",
   "execution_count": 11,
   "metadata": {
    "ExecuteTime": {
     "end_time": "2022-03-02T13:37:21.194698Z",
     "start_time": "2022-03-02T13:37:21.170834Z"
    }
   },
   "outputs": [
    {
     "data": {
      "text/plain": [
       "'trace'"
      ]
     },
     "execution_count": 11,
     "metadata": {},
     "output_type": "execute_result"
    }
   ],
   "source": [
    "TASK"
   ]
  },
  {
   "cell_type": "code",
   "execution_count": 15,
   "metadata": {
    "ExecuteTime": {
     "end_time": "2022-03-02T13:39:48.160497Z",
     "start_time": "2022-03-02T13:39:47.985578Z"
    }
   },
   "outputs": [
    {
     "data": {
      "text/plain": [
       "(402, 4, 4, 10, 50)"
      ]
     },
     "execution_count": 15,
     "metadata": {},
     "output_type": "execute_result"
    }
   ],
   "source": [
    "TD = Target[:,:,:,:,:,0] - Distractor[:,:,:,:,:,0]\n",
    "TD.shape"
   ]
  },
  {
   "cell_type": "code",
   "execution_count": 52,
   "metadata": {
    "ExecuteTime": {
     "end_time": "2022-03-02T13:51:51.846591Z",
     "start_time": "2022-03-02T13:51:50.000540Z"
    }
   },
   "outputs": [
    {
     "name": "stderr",
     "output_type": "stream",
     "text": [
      "C:\\Users\\Sami\\AppData\\Local\\Temp/ipykernel_21260/2286297835.py:5: RuntimeWarning: Mean of empty slice\n",
      "  TD = np.nanmean(TD,axis=-2)\n"
     ]
    },
    {
     "name": "stdout",
     "output_type": "stream",
     "text": [
      "0.0\n"
     ]
    },
    {
     "data": {
      "image/png": "[encoded data removed]",
      "text/plain": [
       "<Figure size 432x576 with 1 Axes>"
      ]
     },
     "metadata": {},
     "output_type": "display_data"
    }
   ],
   "source": [
    "\n",
    "#TD = Target[:,:,:,:,:,i] - Distractor[:,:,:,:,:,i]\n",
    "sns.set(rc={'figure.figsize':(6,8)})\n",
    "TD = Target -Distractor\n",
    "TD = np.transpose(TD,(0,1,2,3,5,4))\n",
    "TD = np.nanmean(TD,axis=-2)\n",
    "timesteps_search = latency_operation2(TD,'trace',TASK,9,criterion=0.5,dur = 50,position_on_curve=1)\n",
    "X2 = np.sort(timesteps_search)\n",
    "F2 = np.array(range(len(timesteps_search)))/float(len(timesteps_search))\n",
    "\n",
    "timesteps_trace = latency_operation2(TD,'trace',TASK,9,criterion=0.5,dur=50,position_on_curve=-2)\n",
    "X22 = np.sort(timesteps_trace)\n",
    "F22 = np.array(range(len(timesteps_trace)))/float(len(timesteps_trace))\n",
    "\n",
    "plt.plot(X2, F2)\n",
    "plt.plot(X22, F22)\n",
    "plt.legend(['search','trace'])\n",
    "plt.ylabel('Cumulative proportion')\n",
    "plt.xlabel('Modulation latency')\n",
    "\n",
    "\n",
    "from scipy.stats import mannwhitneyu\n",
    "U1, p = mannwhitneyu(timesteps_search, timesteps_trace, method=\"auto\")\n",
    "print(p)\n",
    "\n",
    "if SAVE:\n",
    "    plt.savefig(figure_folder+'\\latency_' + TASK  +'.eps', format='eps')"
   ]
  },
  {
   "cell_type": "code",
   "execution_count": null,
   "metadata": {},
   "outputs": [],
   "source": []
  },
  {
   "cell_type": "code",
   "execution_count": 28,
   "metadata": {
    "ExecuteTime": {
     "end_time": "2022-03-02T13:44:11.141776Z",
     "start_time": "2022-03-02T13:44:10.802006Z"
    }
   },
   "outputs": [
    {
     "name": "stderr",
     "output_type": "stream",
     "text": [
      "C:\\Users\\Sami\\AppData\\Local\\Temp/ipykernel_21260/4040845212.py:24: RuntimeWarning: invalid value encountered in true_divide\n",
      "  normalized_TD = TD[neurons,:,:,position_on_curve,:]/np.expand_dims(np.max(np.abs(TD[neurons,:,:,position_on_curve,:]),axis = -1),axis=-1)\n"
     ]
    }
   ],
   "source": [
    "operation = 'trace'\n",
    "CurveLength = 9\n",
    "number_interpolation_points=500\n",
    "dur=50\n",
    "criterion=0.5\n",
    "TD = Target[:,:,:,:,:,1] - Distractor[:,:,:,:,:,1]\n",
    "if operation == 'search':\n",
    "    neurons = [0,1] #first two neurons correspond to the search operation\n",
    "    position_on_curve = -1 #we arbitrarily put them at the end of the curve_length dimension in TD\n",
    "elif operation == 'trace':\n",
    "    neurons = np.arange(2,TD.shape[0])\n",
    "else:\n",
    "    raise Exception(\"Operation is either search or trace\")\n",
    "\n",
    "if operation == 'trace' and TASK == 'searchtrace':\n",
    "    position_on_curve = 0 #in the search then trace task, the trace follows the search\n",
    "elif operation == 'trace' and TASK == 'tracesearch':\n",
    "    position_on_curve = CurveLength - 1 #in the trace then searcg task, the trace precedes the search\n",
    "elif TASK == 'trace':\n",
    "    position_on_curve = 0\n",
    "\n",
    "\n",
    "#Interpolating the response curve to have non-integer latency of modulation   \n",
    "normalized_TD = TD[neurons,:,:,position_on_curve,:]/np.expand_dims(np.max(np.abs(TD[neurons,:,:,position_on_curve,:]),axis = -1),axis=-1)\n",
    "interpollation_function = scipy.interpolate.interp1d(np.arange(0,dur), normalized_TD, kind='linear',axis=-1)\n",
    "interpolated_normalized_TD = interpollation_function(np.linspace(0, dur-1, num=number_interpolation_points))\n",
    "smoothed_interpolated_normalized_TD = uniform_filter1d(interpolated_normalized_TD, size=100,axis = -1)\n",
    "\n",
    "\n",
    "#Modulation condition: criterion * difference between beginning and end\n",
    "condition = np.abs(np.max(smoothed_interpolated_normalized_TD,axis=-1)-np.min(smoothed_interpolated_normalized_TD,axis=-1)) * criterion + np.min(smoothed_interpolated_normalized_TD,axis=-1)\n",
    "condition = np.expand_dims(condition,axis=-1)\n",
    "\n",
    "#Getting the timestep when the modulation is greater than criterion%\n",
    "latency = np.nanargmin(smoothed_interpolated_normalized_TD[:,:,:,::-1]>condition,axis=-1)\n",
    "latency = latency.astype('float')\n",
    "latency = 499 - latency\n",
    "\n",
    "#Removing recording site with non-positive mor non monotonous modulation\n",
    "latency[np.isnan(smoothed_interpolated_normalized_TD[:,:,:,0])] = np.nan\n",
    "if not (operation == 'search' and TASK == 'searchtrace'):\n",
    "    latency[smoothed_interpolated_normalized_TD[:,:,:,0] < -0.02] = np.nan\n",
    "    latency[smoothed_interpolated_normalized_TD[:,:,:,0] > 0.02] = np.nan\n",
    "latency[smoothed_interpolated_normalized_TD[:,:,:,0] > 0.5] = np.nan\n",
    "latency[smoothed_interpolated_normalized_TD[:,:,:,-1] < 0.5] = np.nan #modulation at the end is lower than half of the max\n",
    "latency[smoothed_interpolated_normalized_TD[:,:,:,0]>=0.5] = np.nan #modulation at the beggining is greater than half of the max\n",
    "latency[np.abs(np.max(smoothed_interpolated_normalized_TD,axis=-1)-np.min(smoothed_interpolated_normalized_TD,axis=-1)) < 0.05] = np.nan #constant modulation\n",
    "latency[np.max(smoothed_interpolated_normalized_TD,axis=-1)<=0] = np.nan #modulation is negative\n",
    "latency[smoothed_interpolated_normalized_TD[:,:,:,-1] < smoothed_interpolated_normalized_TD[:,:,:,0]] = np.nan #modulation at the beginning is greater than at the end\n",
    "\n",
    "\n",
    "#Keeping non nan entries\n",
    "#latency = latency[~np.isnan(latency)]\n",
    "#latency = latency.astype('int')\n",
    "#latency = np.linspace(0, dur-1, num=number_interpolation_points)[latency] "
   ]
  },
  {
   "cell_type": "code",
   "execution_count": 131,
   "metadata": {
    "ExecuteTime": {
     "end_time": "2022-02-22T15:58:42.676815Z",
     "start_time": "2022-02-22T15:58:42.656160Z"
    }
   },
   "outputs": [
    {
     "data": {
      "text/plain": [
       "(array([337, 338, 339, 340, 341, 342, 343, 344, 345, 346, 347, 348, 349,\n",
       "        350, 351, 352, 353, 354, 355, 356, 357, 358, 359, 360, 361, 362,\n",
       "        363, 364, 365, 366, 367, 368, 369, 370, 371, 372, 373, 374, 375,\n",
       "        376, 377, 378, 379, 380, 381, 382, 383, 384, 385, 386, 387, 388,\n",
       "        389, 390, 391, 392, 393, 394, 395, 396, 397, 398, 399, 400, 401,\n",
       "        402, 403, 404, 405, 406, 407, 408, 409, 410, 411, 412, 413, 414,\n",
       "        415, 416, 417, 418, 419, 420, 421, 422, 423, 424, 425, 426, 427,\n",
       "        428, 429, 430, 431, 432, 433, 434, 435, 436, 437, 438, 439, 440,\n",
       "        441, 442, 443, 444, 445, 446, 447, 448, 449, 450, 451, 452, 453,\n",
       "        454, 455, 456, 457, 458, 459, 460, 461, 462, 463, 464, 465, 466,\n",
       "        467, 468, 469, 470, 471, 472, 473, 474, 475, 476, 477, 478, 479,\n",
       "        480, 481, 482, 483, 484, 485, 486, 487, 488, 489, 490, 491, 492,\n",
       "        493, 494, 495, 496, 497, 498, 499], dtype=int64),)"
      ]
     },
     "execution_count": 131,
     "metadata": {},
     "output_type": "execute_result"
    }
   ],
   "source": [
    "np.where(np.linspace(0, dur-1, num=number_interpolation_points) >33)"
   ]
  },
  {
   "cell_type": "code",
   "execution_count": 24,
   "metadata": {
    "ExecuteTime": {
     "end_time": "2022-03-02T13:42:55.668207Z",
     "start_time": "2022-03-02T13:42:55.648687Z"
    },
    "scrolled": true
   },
   "outputs": [
    {
     "data": {
      "text/plain": [
       "(array([], dtype=int64), array([], dtype=int64), array([], dtype=int64))"
      ]
     },
     "execution_count": 24,
     "metadata": {},
     "output_type": "execute_result"
    }
   ],
   "source": [
    "np.where(latency<200)"
   ]
  },
  {
   "cell_type": "code",
   "execution_count": 29,
   "metadata": {
    "ExecuteTime": {
     "end_time": "2022-03-02T13:44:16.662938Z",
     "start_time": "2022-03-02T13:44:16.641355Z"
    }
   },
   "outputs": [
    {
     "data": {
      "text/plain": [
       "array([[[nan, nan, nan, nan],\n",
       "        [nan, nan, nan, nan],\n",
       "        [nan, nan, nan, nan],\n",
       "        [nan, nan, nan, nan]],\n",
       "\n",
       "       [[nan, nan, nan, nan],\n",
       "        [nan, nan, nan, nan],\n",
       "        [nan, nan, nan, nan],\n",
       "        [nan, nan, nan, nan]],\n",
       "\n",
       "       [[nan, nan, nan, nan],\n",
       "        [nan, nan, nan, nan],\n",
       "        [nan, nan, nan, nan],\n",
       "        [nan, nan, nan, nan]],\n",
       "\n",
       "       ...,\n",
       "\n",
       "       [[nan, nan, nan, nan],\n",
       "        [nan, nan, nan, nan],\n",
       "        [nan, nan, nan, nan],\n",
       "        [nan, nan, nan, nan]],\n",
       "\n",
       "       [[nan, nan, nan, nan],\n",
       "        [nan, nan, nan, nan],\n",
       "        [nan, nan, nan, nan],\n",
       "        [nan, nan, nan, nan]],\n",
       "\n",
       "       [[nan, nan, nan, nan],\n",
       "        [nan, nan, nan, nan],\n",
       "        [nan, nan, nan, nan],\n",
       "        [nan, nan, nan, nan]]])"
      ]
     },
     "execution_count": 29,
     "metadata": {},
     "output_type": "execute_result"
    }
   ],
   "source": [
    "latency"
   ]
  },
  {
   "cell_type": "code",
   "execution_count": 36,
   "metadata": {
    "ExecuteTime": {
     "end_time": "2022-03-02T13:46:14.466566Z",
     "start_time": "2022-03-02T13:46:14.208979Z"
    }
   },
   "outputs": [
    {
     "data": {
      "text/plain": [
       "[<matplotlib.lines.Line2D at 0x23b81d6f8e0>]"
      ]
     },
     "execution_count": 36,
     "metadata": {},
     "output_type": "execute_result"
    },
    {
     "data": {
      "image/png": "[encoded data removed]",
      "text/plain": [
       "<Figure size 720x432 with 1 Axes>"
      ]
     },
     "metadata": {},
     "output_type": "display_data"
    }
   ],
   "source": [
    "plt.plot(smoothed_interpolated_normalized_TD[25,3,3,:])"
   ]
  },
  {
   "cell_type": "code",
   "execution_count": 157,
   "metadata": {
    "ExecuteTime": {
     "end_time": "2022-02-22T16:13:23.300999Z",
     "start_time": "2022-02-22T16:13:23.280866Z"
    }
   },
   "outputs": [
    {
     "data": {
      "text/plain": [
       "0.04887506203913708"
      ]
     },
     "execution_count": 157,
     "metadata": {},
     "output_type": "execute_result"
    }
   ],
   "source": [
    "i = 2\n",
    "smoothed_interpolated_normalized_TD[lat[0][index[i]],lat[1][index[i]],lat[2][index[i]],0]"
   ]
  },
  {
   "cell_type": "code",
   "execution_count": 156,
   "metadata": {
    "ExecuteTime": {
     "end_time": "2022-02-22T16:12:35.922964Z",
     "start_time": "2022-02-22T16:12:34.841471Z"
    },
    "scrolled": true
   },
   "outputs": [
    {
     "data": {
      "image/png": "[encoded data removed]",
      "text/plain": [
       "<Figure size 432x576 with 1 Axes>"
      ]
     },
     "metadata": {},
     "output_type": "display_data"
    },
    {
     "data": {
      "image/png": "[encoded data removed]",
      "text/plain": [
       "<Figure size 432x576 with 1 Axes>"
      ]
     },
     "metadata": {},
     "output_type": "display_data"
    },
    {
     "data": {
      "image/png": "[encoded data removed]",
      "text/plain": [
       "<Figure size 432x576 with 1 Axes>"
      ]
     },
     "metadata": {},
     "output_type": "display_data"
    },
    {
     "data": {
      "image/png": "[encoded data removed]",
      "text/plain": [
       "<Figure size 432x576 with 1 Axes>"
      ]
     },
     "metadata": {},
     "output_type": "display_data"
    },
    {
     "data": {
      "image/png": "[encoded data removed]",
      "text/plain": [
       "<Figure size 432x576 with 1 Axes>"
      ]
     },
     "metadata": {},
     "output_type": "display_data"
    }
   ],
   "source": [
    "\n",
    "index = [0,10,100,200,240]\n",
    "lat = np.where(latency>337)\n",
    "\n",
    "for i in range(len(index)):\n",
    "    plt.figure()\n",
    "    plt.plot(smoothed_interpolated_normalized_TD[lat[0][index[i]],lat[1][index[i]],lat[2][index[i]],:])"
   ]
  },
  {
   "cell_type": "code",
   "execution_count": 120,
   "metadata": {
    "ExecuteTime": {
     "end_time": "2022-02-22T14:06:01.609153Z",
     "start_time": "2022-02-22T14:06:01.597341Z"
    }
   },
   "outputs": [
    {
     "data": {
      "text/plain": [
       "(2, 4, 4, 500)"
      ]
     },
     "execution_count": 120,
     "metadata": {},
     "output_type": "execute_result"
    }
   ],
   "source": [
    "smoothed_interpolated_normalized_TD.shape"
   ]
  },
  {
   "cell_type": "code",
   "execution_count": 112,
   "metadata": {
    "ExecuteTime": {
     "end_time": "2022-02-22T13:56:51.372753Z",
     "start_time": "2022-02-22T13:56:51.360294Z"
    }
   },
   "outputs": [
    {
     "data": {
      "text/plain": [
       "323"
      ]
     },
     "execution_count": 112,
     "metadata": {},
     "output_type": "execute_result"
    }
   ],
   "source": [
    "trace = smoothed_interpolated_normalized_TD[399,3,3,:]\n",
    "\n",
    "condition = np.abs(np.max(trace)-np.min(trace)) * criterion + np.min(trace)\n",
    "latency = np.nanargmin(smoothed_interpolated_normalized_TD[399,3,3,::-1]>condition)\n",
    "latency = 499 - latency\n",
    "latency"
   ]
  },
  {
   "cell_type": "code",
   "execution_count": null,
   "metadata": {},
   "outputs": [],
   "source": [
    "np.nanargmin(smoothed_interpolated_normalized_TD[:,:,:,::-1]>condition,axis=-1)"
   ]
  },
  {
   "cell_type": "code",
   "execution_count": 21,
   "metadata": {
    "ExecuteTime": {
     "end_time": "2022-01-12T16:21:53.857477Z",
     "start_time": "2022-01-12T16:21:53.707888Z"
    },
    "colab": {
     "base_uri": "https://localhost:8080/",
     "height": 612
    },
    "id": "kKSofkQ-mvNv",
    "outputId": "c9e912be-3222-409e-e492-0a99fac0061f",
    "scrolled": true
   },
   "outputs": [
    {
     "data": {
      "text/plain": [
       "[<matplotlib.lines.Line2D at 0x1f1e8b2c700>]"
      ]
     },
     "execution_count": 21,
     "metadata": {},
     "output_type": "execute_result"
    },
    {
     "data": {
      "text/plain": [
       "[<matplotlib.lines.Line2D at 0x1f1e8b2c700>]"
      ]
     },
     "execution_count": 21,
     "metadata": {},
     "output_type": "execute_result"
    },
    {
     "data": {
      "image/png": "[encoded data removed]",
      "text/plain": [
       "<Figure size 432x720 with 1 Axes>"
      ]
     },
     "metadata": {},
     "output_type": "display_data"
    },
    {
     "data": {
      "image/png": "[encoded data removed]",
      "text/plain": [
       "<Figure size 432x720 with 1 Axes>"
      ]
     },
     "metadata": {},
     "output_type": "display_data"
    }
   ],
   "source": [
    "plt.plot(interpolated_normalized_TD[16,0,0,:])"
   ]
  },
  {
   "cell_type": "code",
   "execution_count": 26,
   "metadata": {
    "ExecuteTime": {
     "end_time": "2022-01-12T15:06:10.091116Z",
     "start_time": "2022-01-12T15:06:10.085099Z"
    }
   },
   "outputs": [
    {
     "data": {
      "text/plain": [
       "0.7506695015654365"
      ]
     },
     "execution_count": 26,
     "metadata": {},
     "output_type": "execute_result"
    },
    {
     "data": {
      "text/plain": [
       "0.7506695015654365"
      ]
     },
     "execution_count": 26,
     "metadata": {},
     "output_type": "execute_result"
    }
   ],
   "source": [
    "interpolated_normalized_TD[16,0,0,0]"
   ]
  },
  {
   "cell_type": "code",
   "execution_count": 29,
   "metadata": {
    "ExecuteTime": {
     "end_time": "2022-01-12T15:06:42.771121Z",
     "start_time": "2022-01-12T15:06:42.763167Z"
    }
   },
   "outputs": [
    {
     "data": {
      "text/plain": [
       "0.7506695015654365"
      ]
     },
     "execution_count": 29,
     "metadata": {},
     "output_type": "execute_result"
    },
    {
     "data": {
      "text/plain": [
       "0.7506695015654365"
      ]
     },
     "execution_count": 29,
     "metadata": {},
     "output_type": "execute_result"
    }
   ],
   "source": [
    "interpolated_normalized_TD[11,2,0,0]"
   ]
  },
  {
   "cell_type": "code",
   "execution_count": 52,
   "metadata": {
    "ExecuteTime": {
     "end_time": "2022-01-12T15:34:40.472035Z",
     "start_time": "2022-01-12T15:34:40.288022Z"
    }
   },
   "outputs": [
    {
     "data": {
      "text/plain": [
       "[<matplotlib.lines.Line2D at 0x2467fb3b730>]"
      ]
     },
     "execution_count": 52,
     "metadata": {},
     "output_type": "execute_result"
    },
    {
     "data": {
      "text/plain": [
       "[<matplotlib.lines.Line2D at 0x2467fb3b730>]"
      ]
     },
     "execution_count": 52,
     "metadata": {},
     "output_type": "execute_result"
    },
    {
     "data": {
      "image/png": "[encoded data removed]",
      "text/plain": [
       "<Figure size 432x720 with 1 Axes>"
      ]
     },
     "metadata": {},
     "output_type": "display_data"
    },
    {
     "data": {
      "image/png": "[encoded data removed]",
      "text/plain": [
       "<Figure size 432x720 with 1 Axes>"
      ]
     },
     "metadata": {},
     "output_type": "display_data"
    }
   ],
   "source": [
    "from scipy.ndimage.filters import uniform_filter1d\n",
    "N = 1000\n",
    "y = uniform_filter1d(interpolated_normalized_TD[12,1,1,::-1], size=100)\n",
    "plt.plot(y)"
   ]
  },
  {
   "cell_type": "code",
   "execution_count": 74,
   "metadata": {
    "ExecuteTime": {
     "end_time": "2022-01-12T15:45:04.317683Z",
     "start_time": "2022-01-12T15:45:04.309704Z"
    }
   },
   "outputs": [
    {
     "data": {
      "text/plain": [
       "0.4015151131831152"
      ]
     },
     "execution_count": 74,
     "metadata": {},
     "output_type": "execute_result"
    },
    {
     "data": {
      "text/plain": [
       "0.4015151131831152"
      ]
     },
     "execution_count": 74,
     "metadata": {},
     "output_type": "execute_result"
    }
   ],
   "source": [
    "condition = np.abs(np.max(interpolated_normalized_TD[30,2,0,:],axis=-1)-np.min(interpolated_normalized_TD[30,2,0,:],axis=-1)) * criterion + np.min(interpolated_normalized_TD[30,2,0,:],axis=-1)\n",
    "#np.nanargmin(interpolated_normalized_TD[12,1,1,::-1]>condition,axis=-1)\n",
    "condition"
   ]
  },
  {
   "cell_type": "code",
   "execution_count": 39,
   "metadata": {
    "ExecuteTime": {
     "end_time": "2022-01-12T15:16:59.311473Z",
     "start_time": "2022-01-12T15:16:59.304485Z"
    }
   },
   "outputs": [
    {
     "data": {
      "text/plain": [
       "-0.0198816092494154"
      ]
     },
     "execution_count": 39,
     "metadata": {},
     "output_type": "execute_result"
    },
    {
     "data": {
      "text/plain": [
       "-0.0198816092494154"
      ]
     },
     "execution_count": 39,
     "metadata": {},
     "output_type": "execute_result"
    }
   ],
   "source": [
    "condition"
   ]
  },
  {
   "cell_type": "code",
   "execution_count": 38,
   "metadata": {
    "ExecuteTime": {
     "end_time": "2022-01-12T15:16:40.967024Z",
     "start_time": "2022-01-12T15:16:40.960042Z"
    }
   },
   "outputs": [
    {
     "data": {
      "text/plain": [
       "440"
      ]
     },
     "execution_count": 38,
     "metadata": {},
     "output_type": "execute_result"
    },
    {
     "data": {
      "text/plain": [
       "440"
      ]
     },
     "execution_count": 38,
     "metadata": {},
     "output_type": "execute_result"
    }
   ],
   "source": [
    "np.searchsorted(interpolated_normalized_TD[12,1,1,:],condition, side='right', sorter=None)"
   ]
  },
  {
   "cell_type": "code",
   "execution_count": null,
   "metadata": {
    "ExecuteTime": {
     "end_time": "2022-01-11T14:36:10.545992Z",
     "start_time": "2022-01-11T14:36:10.545992Z"
    }
   },
   "outputs": [],
   "source": [
    "latency.shape"
   ]
  },
  {
   "cell_type": "code",
   "execution_count": 2,
   "metadata": {
    "ExecuteTime": {
     "end_time": "2022-01-19T16:22:16.535902Z",
     "start_time": "2022-01-19T16:22:15.262436Z"
    },
    "id": "d3CZ5Owi55cq"
   },
   "outputs": [],
   "source": [
    "with open('NetworksTraceActivations1.pkl', 'rb') as input:\n",
    "    results1 = pickle.load(input)\n",
    "with open('NetworksTraceActivations2.pkl', 'rb') as input:\n",
    "    results2 = pickle.load(input)\n",
    "with open('NetworksTraceActivations3.pkl', 'rb') as input:\n",
    "    results3 = pickle.load(input)\n",
    "with open('NetworksTraceActivations4.pkl', 'rb') as input:\n",
    "    results4 = pickle.load(input)"
   ]
  },
  {
   "cell_type": "code",
   "execution_count": 3,
   "metadata": {
    "ExecuteTime": {
     "end_time": "2022-01-19T16:22:34.936841Z",
     "start_time": "2022-01-19T16:22:34.928870Z"
    }
   },
   "outputs": [],
   "source": [
    "result = pd.concat([results1,results2,results3,results4],ignore_index=True)"
   ]
  },
  {
   "cell_type": "code",
   "execution_count": 4,
   "metadata": {
    "ExecuteTime": {
     "end_time": "2022-01-19T16:22:45.341896Z",
     "start_time": "2022-01-19T16:22:43.562705Z"
    }
   },
   "outputs": [],
   "source": [
    "result.to_pickle(\"NetworksTraceActivations.pkl\")"
   ]
  },
  {
   "cell_type": "code",
   "execution_count": null,
   "metadata": {},
   "outputs": [],
   "source": [
    "resultsdict = {'TargetTrace':TargetTrace,'DistractorTrace':DistractorTrace,'Corrects':Corrects,'Feature':Feature,'TargetCurve':TargetCurve,'DistractorCurve':DistrCurve,'NTrials':NumberOfTrial,'NPixels':LengthOfCurve}"
   ]
  },
  {
   "cell_type": "code",
   "execution_count": 23,
   "metadata": {
    "ExecuteTime": {
     "end_time": "2022-01-14T19:50:17.223245Z",
     "start_time": "2022-01-14T19:50:17.204295Z"
    }
   },
   "outputs": [
    {
     "data": {
      "text/plain": [
       "(402, 4, 4, 10, 80)"
      ]
     },
     "execution_count": 23,
     "metadata": {},
     "output_type": "execute_result"
    }
   ],
   "source": [
    "traces['TargetTrace'][0].shape"
   ]
  },
  {
   "cell_type": "code",
   "execution_count": 26,
   "metadata": {
    "ExecuteTime": {
     "end_time": "2022-01-14T19:52:36.643294Z",
     "start_time": "2022-01-14T19:52:30.749772Z"
    }
   },
   "outputs": [],
   "source": [
    "TargetTrace = []\n",
    "DistractorTrace = []\n",
    "Corrects = []\n",
    "Feature = []\n",
    "TargetCurve = []\n",
    "DistrCurve = []\n",
    "NumberOfTrial = []\n",
    "LengthOfCurve = []\n",
    "for i in range(len(traces['TargetTrace'])):\n",
    "    TargetTrace.append(traces['TargetTrace'][i][:,:,:,:,:50])\n",
    "    DistractorTrace.append(traces['DistractorTrace'][i][:,:,:,:,:50])\n",
    "    Corrects.append(traces['Corrects'][i])\n",
    "    Feature.append(traces['Feature'][i])\n",
    "    TargetCurve.append(traces['TargetCurve'][i])\n",
    "    DistrCurve.append(traces['DistractorCurve'][i])\n",
    "    NumberOfTrial.append(traces['NTrials'][i])\n",
    "    LengthOfCurve.append(traces['NPixels'][i])\n",
    "resultsdict = {'TargetTrace':TargetTrace,'DistractorTrace':DistractorTrace,'Corrects':Corrects,'Feature':Feature,'TargetCurve':TargetCurve,'DistractorCurve':DistrCurve,'NTrials':NumberOfTrial,'NPixels':LengthOfCurve}\n",
    "df = pd.DataFrame(resultsdict)\n",
    "df.to_pickle(\"NetworksTraceSearchActivations.pkl\")"
   ]
  },
  {
   "cell_type": "markdown",
   "metadata": {},
   "source": [
    "# Accessory network learning"
   ]
  },
  {
   "cell_type": "code",
   "execution_count": 3,
   "metadata": {
    "ExecuteTime": {
     "end_time": "2022-02-15T09:28:50.838846Z",
     "start_time": "2022-02-15T09:28:50.639210Z"
    }
   },
   "outputs": [],
   "source": [
    "if TASK == 'trace':\n",
    "    networks_base = open_base('NetworksTrace')\n",
    "elif TASK == 'searchtrace':\n",
    "  networks_base = open_base('NetworksSearchTrace')\n",
    "elif TASK == 'tracesearch':\n",
    "  networks_base = open_base('NetworksTraceSearch')\n",
    "else:\n",
    "  raise Exception('TASK should be trace, tracesearch or searchtrace')"
   ]
  },
  {
   "cell_type": "code",
   "execution_count": 4,
   "metadata": {
    "ExecuteTime": {
     "end_time": "2022-02-15T09:28:51.119783Z",
     "start_time": "2022-02-15T09:28:51.074247Z"
    }
   },
   "outputs": [],
   "source": [
    "def ComputeZ(n,disruption,pixel_to_disrupte,target_hist,distr_hist,grid_size):\n",
    "  if n.winner_disk:\n",
    "      init = [torch.zeros_like(n.Y2), torch.zeros_like(n.Y1mod), torch.zeros_like(n.Y1), torch.zeros_like(n.Xmod)]\n",
    "      init_disk = torch.autograd.grad(n.Z_disk[n.action], [n.Y2_disk, n.Y1mod_disk, n.Y1_disk, n.Xmod_disk], retain_graph=True, allow_unused=True)\n",
    "  else:\n",
    "      init = torch.autograd.grad(n.Z[n.action], [n.Y2, n.Y1mod, n.Y1, n.Xmod], retain_graph=True, allow_unused=True)\n",
    "      init_disk = [torch.zeros_like(n.Y2_disk), torch.zeros_like(n.Y1mod_disk), torch.zeros_like(n.Y1_disk), torch.zeros_like(n.Xmod_disk)]\n",
    "\n",
    "  Zy2 = init[0]\n",
    "  Zy1mod = init[1]\n",
    "  Zy1 = init[2]\n",
    "  Zxmod = init[3]\n",
    "\n",
    "  Zy2_disk = init_disk[0]\n",
    "  Zy1mod_disk = init_disk[1]\n",
    "  Zy1_disk = init_disk[2]\n",
    "  Zxmod_disk = init_disk[3]\n",
    "\n",
    "  target = np.zeros((20,t.curve_length,10))\n",
    "  distractor = np.zeros((20,t.curve_length,10))\n",
    "\n",
    "  for i in range(20):\n",
    "      ZXmod_prev = Zxmod\n",
    "      Zxmod_disk_prev = Zxmod_disk\n",
    "\n",
    "      Zy2 = torch.autograd.grad(n.Y1mod, n.Y2test, grad_outputs=Zy1mod, retain_graph=True, allow_unused=True)[0]\n",
    "      Zy2 = Zy2 + init[0]\n",
    "\n",
    "      Zy1mod = torch.autograd.grad(n.Y2, n.Y1mod, grad_outputs=Zy2, retain_graph=True, allow_unused=True)[0]\n",
    "      Zy1mod = Zy1mod + torch.autograd.grad(n.Xmod, n.Y1modtest, grad_outputs=Zxmod, retain_graph=True, allow_unused=True)[0]\n",
    "      Zy1mod = Zy1mod + init[1]\n",
    "\n",
    "      Zy1 = torch.autograd.grad(n.Y2, n.Y1, grad_outputs=Zy2, retain_graph=True, allow_unused=True)[0]\n",
    "      Zy1 = Zy1 + torch.autograd.grad(n.Xmod, n.Y1test, grad_outputs=Zxmod, retain_graph=True, allow_unused=True)[0]\n",
    "      Zy1 = Zy1 + init[2]\n",
    "\n",
    "      if disruption:\n",
    "        Zy1[0,:,target_hist[pixel_to_disrupte] % grid_size, target_hist[pixel_to_disrupte] //grid_size] = 0\n",
    "        Zxmod[0,:,target_hist[pixel_to_disrupte] %grid_size, target_hist[pixel_to_disrupte] //grid_size] = 0\n",
    "      Zxmod = torch.autograd.grad(n.Y1, n.Xmod, grad_outputs=Zy1, retain_graph=True, allow_unused=True)[0]\n",
    "      Zxmod = Zxmod + torch.autograd.grad(n.Xmod, n.Xmodtest, grad_outputs=ZXmod_prev, retain_graph=True, allow_unused=True)[0]\n",
    "      Zxmod = Zxmod + torch.autograd.grad(n.Xmod_disk, n.Xmodtest, grad_outputs=Zxmod_disk_prev, retain_graph=True, allow_unused=True)[0]\n",
    "      Zxmod = Zxmod + init[3]\n",
    "      if disruption:\n",
    "        Zxmod[0,0,target_hist[pixel_to_disrupte] % grid_size, target_hist[pixel_to_disrupte] //grid_size] = 0\n",
    "      for j in range(t.curve_length):\n",
    "        target[i,j,trial] = Zxmod[0,0,target_hist[j] % grid_size, target_hist[j] //grid_size]\n",
    "        distractor[i,j,trial] = Zxmod[0,0,distr_hist[j] % grid_size, distr_hist[j] //grid_size]\n",
    "\n",
    "      Zy2_disk = torch.autograd.grad(n.Y1mod_disk, n.Y2test_disk, grad_outputs=Zy1mod_disk, retain_graph=True, allow_unused=True)[0]\n",
    "      Zy2_disk = Zy2_disk + init_disk[0]\n",
    "\n",
    "      Zy1mod_disk = torch.autograd.grad(n.Y2_disk, n.Y1mod_disk, grad_outputs=Zy2_disk, retain_graph=True, allow_unused=True)[0]\n",
    "      Zy1mod_disk = Zy1mod_disk + torch.autograd.grad(n.Xmod_disk, n.Y1modtest_disk, grad_outputs=Zxmod_disk, retain_graph=True, allow_unused=True)[0]\n",
    "      Zy1mod_disk = Zy1mod_disk + init_disk[1]\n",
    "\n",
    "      Zy1_disk = torch.autograd.grad(n.Y2_disk, n.Y1_disk, grad_outputs=Zy2_disk, retain_graph=True, allow_unused=True)[0]\n",
    "      Zy1_disk = Zy1_disk + torch.autograd.grad(n.Xmod_disk, n.Y1test_disk, grad_outputs=Zxmod_disk, retain_graph=True, allow_unused=True)[0]\n",
    "      Zy1_disk = Zy1_disk + init_disk[2]\n",
    "\n",
    "      Zxmod_disk = Zxmod_disk + torch.autograd.grad(n.Y1_disk, n.Xmod_disk, grad_outputs=Zy1_disk, retain_graph=True, allow_unused=True)[0]\n",
    "      Zxmod_disk = Zxmod_disk + torch.autograd.grad(n.Xmod_disk, n.Xmodtest_disk, grad_outputs=Zxmod_disk_prev, retain_graph=True, allow_unused=True)[0]\n",
    "      Zxmod_disk = Zxmod_disk + torch.autograd.grad(n.Xmod, n.Xmodtest_disk, grad_outputs=ZXmod_prev, retain_graph=True, allow_unused=True)[0]\n",
    "      Zxmod_disk = Zxmod_disk + init_disk[3]\n",
    "  return(target,distractor)"
   ]
  },
  {
   "cell_type": "code",
   "execution_count": 60,
   "metadata": {
    "ExecuteTime": {
     "end_time": "2022-02-15T09:57:23.479682Z",
     "start_time": "2022-02-15T09:57:23.444028Z"
    }
   },
   "outputs": [],
   "source": [
    "with open(r'C:\\Users\\Sami\\Downloads\\TraceTo4_2.pkl', 'rb') as input:\n",
    "    n = pickle.load(input)"
   ]
  },
  {
   "cell_type": "code",
   "execution_count": 61,
   "metadata": {
    "ExecuteTime": {
     "end_time": "2022-02-15T09:57:26.362285Z",
     "start_time": "2022-02-15T09:57:23.738151Z"
    }
   },
   "outputs": [],
   "source": [
    "target = np.zeros((20,8,10))\n",
    "distractor = np.zeros((20,8,10))\n",
    "targetdis = np.zeros((20,8,10))\n",
    "distractordis = np.zeros((20,8,10))\n",
    "for network in range(1):\n",
    "    trial = 0\n",
    "    #n = networks_base['Network'][network]\n",
    "    grid_size = 9\n",
    "    while trial < 10:\n",
    "      t=Trace(4)\n",
    "      t.grid_size = grid_size\n",
    "      t.no_curves = False\n",
    "      t.curve_length = 8\n",
    "      new_input, reward, trialEnd = t.doStep(0)\n",
    "      target_hist = t.target_curve.copy()\n",
    "      distr_hist = t.distractor_curve.copy()\n",
    "      n.save_activities = False\n",
    "      n.exploitation_probability = 1\n",
    "      action = n.doStep(new_input,reward,trialEnd,device)\n",
    "      new_input, reward, trialEnd = t.doStep(action)\n",
    "      if reward == 0:\n",
    "        continue\n",
    "      #now do learn\n",
    "      target_temp,distractor_temp =  ComputeZ(n,False,-1,target_hist,distr_hist,grid_size)\n",
    "      targetdis_temp,distractordis_temp = ComputeZ(n,True,-1,target_hist,distr_hist,grid_size)\n",
    "      target = target_temp\n",
    "      distractor = distractor_temp\n",
    "      targetdis = targetdis_temp\n",
    "      distractordis = distractordis_temp\n",
    "      trial += 1"
   ]
  },
  {
   "cell_type": "code",
   "execution_count": 66,
   "metadata": {
    "ExecuteTime": {
     "end_time": "2022-02-15T09:57:59.455684Z",
     "start_time": "2022-02-15T09:57:59.211894Z"
    }
   },
   "outputs": [
    {
     "data": {
      "text/plain": [
       "<matplotlib.legend.Legend at 0x1b4a31bc100>"
      ]
     },
     "execution_count": 66,
     "metadata": {},
     "output_type": "execute_result"
    },
    {
     "data": {
      "image/png": "[encoded data removed]",
      "text/plain": [
       "<Figure size 432x288 with 1 Axes>"
      ]
     },
     "metadata": {
      "needs_background": "light"
     },
     "output_type": "display_data"
    }
   ],
   "source": [
    "#trained to 4\n",
    "\n",
    "aa = np.mean(target,axis=(2))\n",
    "bb = np.mean(targetdis,axis=(2))\n",
    "plt.plot(aa[:,5] - bb[:,5])\n",
    "plt.legend(['0','2','3'])"
   ]
  },
  {
   "cell_type": "code",
   "execution_count": 67,
   "metadata": {
    "ExecuteTime": {
     "end_time": "2022-02-15T10:02:18.940365Z",
     "start_time": "2022-02-15T10:02:18.928165Z"
    }
   },
   "outputs": [
    {
     "data": {
      "text/plain": [
       "Index(['Network', 'Performance', 'Generalization'], dtype='object')"
      ]
     },
     "execution_count": 67,
     "metadata": {},
     "output_type": "execute_result"
    }
   ],
   "source": [
    "networks_base.keys()"
   ]
  },
  {
   "cell_type": "code",
   "execution_count": null,
   "metadata": {},
   "outputs": [],
   "source": []
  }
 ],
 "metadata": {
  "colab": {
   "collapsed_sections": [],
   "name": "FinalAnalysis.ipynb",
   "provenance": []
  },
  "kernelspec": {
   "display_name": "Python 3 (ipykernel)",
   "language": "python",
   "name": "python3"
  },
  "language_info": {
   "codemirror_mode": {
    "name": "ipython",
    "version": 3
   },
   "file_extension": ".py",
   "mimetype": "text/x-python",
   "name": "python",
   "nbconvert_exporter": "python",
   "pygments_lexer": "ipython3",
   "version": "3.8.12"
  },
  "toc": {
   "base_numbering": 1,
   "nav_menu": {},
   "number_sections": true,
   "sideBar": true,
   "skip_h1_title": false,
   "title_cell": "Table of Contents",
   "title_sidebar": "Contents",
   "toc_cell": false,
   "toc_position": {},
   "toc_section_display": true,
   "toc_window_display": false
  },
  "varInspector": {
   "cols": {
    "lenName": 16,
    "lenType": 16,
    "lenVar": 40
   },
   "kernels_config": {
    "python": {
     "delete_cmd_postfix": "",
     "delete_cmd_prefix": "del ",
     "library": "var_list.py",
     "varRefreshCmd": "print(var_dic_list())"
    },
    "r": {
     "delete_cmd_postfix": ") ",
     "delete_cmd_prefix": "rm(",
     "library": "var_list.r",
     "varRefreshCmd": "cat(var_dic_list()) "
    }
   },
   "position": {
    "height": "294.844px",
    "left": "525px",
    "right": "20px",
    "top": "119px",
    "width": "611px"
   },
   "types_to_exclude": [
    "module",
    "function",
    "builtin_function_or_method",
    "instance",
    "_Feature"
   ],
   "window_display": false
  }
 },
 "nbformat": 4,
 "nbformat_minor": 1
}
