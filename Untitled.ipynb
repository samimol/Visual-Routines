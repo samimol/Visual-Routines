{
 "cells": [
  {
   "cell_type": "code",
   "execution_count": 2,
   "id": "7e57f05f",
   "metadata": {
    "ExecuteTime": {
     "end_time": "2021-12-14T07:41:28.498500Z",
     "start_time": "2021-12-14T07:41:27.356224Z"
    }
   },
   "outputs": [],
   "source": [
    "from Network import *\n",
    "from Task import *\n",
    "import os\n",
    "import pandas as pd\n",
    "import pickle\n",
    "import matplotlib.pyplot as plt\n",
    "\n",
    "\n",
    "def save_object(obj, filename):\n",
    "    with open(filename, 'wb') as output:  # Overwrites any existing file.\n",
    "        pickle.dump(obj, output, pickle.HIGHEST_PROTOCOL)"
   ]
  },
  {
   "cell_type": "markdown",
   "id": "729ea276",
   "metadata": {},
   "source": [
    "# Make the database"
   ]
  },
  {
   "cell_type": "code",
   "execution_count": 4,
   "id": "82541c67",
   "metadata": {
    "ExecuteTime": {
     "end_time": "2021-12-14T07:28:34.338945Z",
     "start_time": "2021-12-14T07:28:34.024866Z"
    }
   },
   "outputs": [],
   "source": [
    "if not os.path.isfile('NetworksTrace.pkl'):\n",
    "    Networks = []\n",
    "    Trials = []\n",
    "    Generalization = []\n",
    "    \n",
    "    with open('ResultsTracetorch.pkl', 'rb') as input:\n",
    "        results = pickle.load(input)\n",
    "    \n",
    "    ListNetwork = [results[i][0][0] for i in range(23)]\n",
    "    ListPerfo = [results[i][0][1] for i in range(23)]\n",
    "    ListGene = [results[i][0][2] for i in range(23)]\n",
    "\n",
    "    resultsdict = {'Network':ListNetwork,'Performance':ListPerfo,'Generalization':ListGene}\n",
    "\n",
    "    df = pd.DataFrame(resultsdict)\n",
    "    df.to_pickle(\"NetworksTrace.pkl\")\n"
   ]
  },
  {
   "cell_type": "markdown",
   "id": "2118c2b8",
   "metadata": {},
   "source": [
    "# Run and save"
   ]
  },
  {
   "cell_type": "code",
   "execution_count": 3,
   "id": "c692456c",
   "metadata": {
    "ExecuteTime": {
     "end_time": "2021-12-14T07:41:31.661704Z",
     "start_time": "2021-12-14T07:41:31.643752Z"
    }
   },
   "outputs": [],
   "source": [
    "device = None"
   ]
  },
  {
   "cell_type": "code",
   "execution_count": 4,
   "id": "c93ad918",
   "metadata": {
    "ExecuteTime": {
     "end_time": "2021-12-14T07:41:32.199480Z",
     "start_time": "2021-12-14T07:41:32.041311Z"
    }
   },
   "outputs": [],
   "source": [
    "with open('NetworksTrace.pkl', 'rb') as input:\n",
    "    results = pickle.load(input)"
   ]
  },
  {
   "cell_type": "code",
   "execution_count": 5,
   "id": "12da99c9",
   "metadata": {
    "ExecuteTime": {
     "end_time": "2021-12-14T07:41:32.580876Z",
     "start_time": "2021-12-14T07:41:32.554918Z"
    }
   },
   "outputs": [],
   "source": [
    "def RunTrials(t,CurveLength,TrialNumber,n,device):\n",
    "    n.exploit_prob = 1\n",
    "    n.dosave = True\n",
    "    corrects = []\n",
    "    target_history = []\n",
    "    distr_history = []\n",
    "    feature_history = []\n",
    "    display = []\n",
    "    t.curve_length = CurveLength\n",
    "    action = np.zeros((1,49));\n",
    "    n.saveX = [[]]\n",
    "    n.saveXmod = [[]]\n",
    "    n.saveY1 = [[]]\n",
    "    n.saveY1mod = [[]]\n",
    "    n.saveY2 = [[]]\n",
    "    n.saveQ = [[]]\n",
    "    \n",
    "    n.saveX_disk = [[]]\n",
    "    n.saveXmod_disk = [[]]\n",
    "    n.saveY1_disk = [[]]\n",
    "    n.saveY1mod_disk = [[]]\n",
    "    n.saveY2_disk = [[]]\n",
    "    n.saveQ_disk = [[]]\n",
    "    for p in range(TrialNumber):\n",
    "      trial_running = True\n",
    "      display.append([])\n",
    "      i=0\n",
    "      new_input, reward, trialEnd= t.doStep(action)\n",
    "      feature_history.append(t.feature_target) \n",
    "      while trial_running:\n",
    "        action = n.doStep(new_input,reward,trialEnd,device)\n",
    "        new_input, reward, trialEnd = t.doStep(action)\n",
    "        display[p].append(n.X.detach())\n",
    "        if trialEnd:\n",
    "          trial_running = False\n",
    "          if reward == 0:\n",
    "            corrects.append(0)\n",
    "          else:\n",
    "            corrects.append(1)\n",
    "        i = i + 1\n",
    "      target_history.append(t.trialTarget)\n",
    "      distr_history.append(t.trialDistr) \n",
    "    print(np.mean(corrects))\n",
    "    return(n,corrects,feature_history,target_history,distr_history,display)  "
   ]
  },
  {
   "cell_type": "code",
   "execution_count": 6,
   "id": "5b87ba20",
   "metadata": {
    "ExecuteTime": {
     "end_time": "2021-12-14T07:41:43.642539Z",
     "start_time": "2021-12-14T07:41:33.072522Z"
    }
   },
   "outputs": [
    {
     "name": "stderr",
     "output_type": "stream",
     "text": [
      "C:\\Users\\Sami\\Desktop\\PhD\\CurveTracingTorch\\Network.py:147: UserWarning: __floordiv__ is deprecated, and its behavior will change in a future version of pytorch. It currently rounds toward 0 (like the 'trunc' function NOT 'floor'). This results in incorrect rounding for negative values. To keep the current behavior, use torch.div(a, b, rounding_mode='trunc'), or for actual floor division, use torch.div(a, b, rounding_mode='floor').\n",
      "  winner = [torch.tensor([0]), torch.tensor([0]), torch.tensor([(winner-2)%self.grid_size]), torch.tensor([(winner-2) // self.grid_size])]\n"
     ]
    },
    {
     "name": "stdout",
     "output_type": "stream",
     "text": [
      "0.94\n"
     ]
    }
   ],
   "source": [
    "CurveLength = 9\n",
    "TrialNumber = 50\n",
    "t = Trace(4)\n",
    "t.onlyblue = False\n",
    "t.grid_size = 20\n",
    "n=results['Network'][1]\n",
    "n,corrects,feature_history,target_history,distr_history,display = RunTrials(t,CurveLength,TrialNumber,n,device)"
   ]
  },
  {
   "cell_type": "code",
   "execution_count": 7,
   "id": "0d625f72",
   "metadata": {
    "ExecuteTime": {
     "end_time": "2021-12-14T07:41:45.774669Z",
     "start_time": "2021-12-14T07:41:45.374944Z"
    }
   },
   "outputs": [],
   "source": [
    "dur = 30\n",
    "curves = [np.zeros((TrialNumber,dur)) for i in range(CurveLength)]\n",
    "ar = n.saveXmod\n",
    "grid_size = 20\n",
    "for p in range(1,TrialNumber):\n",
    "    if len(ar[p]) > dur:\n",
    "        if corrects[p-1] == 1:\n",
    "            target_hist = target_history[p-1].copy()\n",
    "            distr_hist = distr_history[p-1].copy()\n",
    "            curvestemp = [np.zeros((dur)) for i in range(CurveLength)]\n",
    "            for i in range(dur):\n",
    "                curvestemp[0][i] = ar[p][i][0,0,target_hist[0] % grid_size, target_hist[0] //grid_size] - ar[p][i][0,0,distr_hist[0]%grid_size,distr_hist[0]//grid_size]\n",
    "                for l in range(1,CurveLength-1):\n",
    "                    curvestemp[l][i] = ar[p][i][0,2,target_hist[l]%grid_size,target_hist[l]//grid_size] -  ar[p][i][0,2,distr_hist[l]%grid_size,distr_hist[l]//grid_size]\n",
    "                curvestemp[CurveLength-1][i] = ar[p][i][0,3,target_hist[CurveLength-1]%grid_size,target_hist[CurveLength-1]//grid_size] -  ar[p][i][0,3,distr_hist[CurveLength-1]%grid_size,distr_hist[CurveLength-1]//grid_size]\n",
    "            for l in range(CurveLength):\n",
    "                curves[l][p,:] = curvestemp[l]\n",
    "                \n",
    "                \n",
    "for l in range(CurveLength):\n",
    "    curves[l] = curves[l][~np.all(curves[l] == 0, axis=1)]\n"
   ]
  },
  {
   "cell_type": "code",
   "execution_count": 10,
   "id": "0d9cffff",
   "metadata": {
    "ExecuteTime": {
     "end_time": "2021-12-14T07:42:04.595706Z",
     "start_time": "2021-12-14T07:42:04.321304Z"
    }
   },
   "outputs": [
    {
     "data": {
      "text/plain": [
       "<matplotlib.legend.Legend at 0x1f31386c400>"
      ]
     },
     "execution_count": 10,
     "metadata": {},
     "output_type": "execute_result"
    },
    {
     "data": {
      "image/png": "[encoded data removed]",
      "text/plain": [
       "<Figure size 432x288 with 1 Axes>"
      ]
     },
     "metadata": {
      "needs_background": "light"
     },
     "output_type": "display_data"
    }
   ],
   "source": [
    "plt.figure()\n",
    "for l in range(CurveLength):\n",
    "    plt.plot(np.mean(curves[l],axis=0)/np.max(np.abs(np.mean(curves[l],axis=0))))    \n",
    "plt.legend([str(i) for i in range(CurveLength)])"
   ]
  },
  {
   "cell_type": "code",
   "execution_count": null,
   "id": "83123816",
   "metadata": {},
   "outputs": [],
   "source": []
  }
 ],
 "metadata": {
  "kernelspec": {
   "display_name": "Python 3 (ipykernel)",
   "language": "python",
   "name": "python3"
  },
  "language_info": {
   "codemirror_mode": {
    "name": "ipython",
    "version": 3
   },
   "file_extension": ".py",
   "mimetype": "text/x-python",
   "name": "python",
   "nbconvert_exporter": "python",
   "pygments_lexer": "ipython3",
   "version": "3.8.12"
  },
  "toc": {
   "base_numbering": 1,
   "nav_menu": {},
   "number_sections": true,
   "sideBar": true,
   "skip_h1_title": false,
   "title_cell": "Table of Contents",
   "title_sidebar": "Contents",
   "toc_cell": false,
   "toc_position": {},
   "toc_section_display": true,
   "toc_window_display": false
  },
  "varInspector": {
   "cols": {
    "lenName": 16,
    "lenType": 16,
    "lenVar": 40
   },
   "kernels_config": {
    "python": {
     "delete_cmd_postfix": "",
     "delete_cmd_prefix": "del ",
     "library": "var_list.py",
     "varRefreshCmd": "print(var_dic_list())"
    },
    "r": {
     "delete_cmd_postfix": ") ",
     "delete_cmd_prefix": "rm(",
     "library": "var_list.r",
     "varRefreshCmd": "cat(var_dic_list()) "
    }
   },
   "types_to_exclude": [
    "module",
    "function",
    "builtin_function_or_method",
    "instance",
    "_Feature"
   ],
   "window_display": false
  }
 },
 "nbformat": 4,
 "nbformat_minor": 5
}
